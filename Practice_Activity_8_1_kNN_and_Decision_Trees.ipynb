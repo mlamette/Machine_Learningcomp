{
 "cells": [
  {
   "cell_type": "raw",
   "metadata": {},
   "source": [
    "---\n",
    "self-contained: true\n",
    "title: \"Practice Activity 8.1 Knn and Decision Trees\"\n",
    "author: Melissa LaMette\n",
    "format:\n",
    "    html:\n",
    "        theme: darkly\n",
    "---"
   ]
  },
  {
   "cell_type": "markdown",
   "metadata": {
    "id": "VeAOZxOcM0Vi"
   },
   "source": [
    "# Palmer Penguins Modeling\n",
    "\n",
    "Import the Palmer Penguins dataset and print out the first few rows.\n",
    "\n",
    "Suppose we want to predict `bill_depth_mm` using the other variables in the dataset.\n",
    "\n",
    "**Dummify** all variables that require this."
   ]
  },
  {
   "cell_type": "code",
   "execution_count": 2,
   "metadata": {
    "colab": {
     "base_uri": "https://localhost:8080/"
    },
    "id": "iJO3JGeeIBGs",
    "outputId": "7ea7177e-cb86-4f20-fd79-6f1e6cafe56d"
   },
   "outputs": [
    {
     "name": "stdout",
     "output_type": "stream",
     "text": [
      "Collecting palmerpenguins\n",
      "  Downloading palmerpenguins-0.1.4-py3-none-any.whl (17 kB)\n",
      "Requirement already satisfied: pandas in /usr/local/lib/python3.10/dist-packages (from palmerpenguins) (1.5.3)\n",
      "Requirement already satisfied: numpy in /usr/local/lib/python3.10/dist-packages (from palmerpenguins) (1.23.5)\n",
      "Requirement already satisfied: python-dateutil>=2.8.1 in /usr/local/lib/python3.10/dist-packages (from pandas->palmerpenguins) (2.8.2)\n",
      "Requirement already satisfied: pytz>=2020.1 in /usr/local/lib/python3.10/dist-packages (from pandas->palmerpenguins) (2023.3.post1)\n",
      "Requirement already satisfied: six>=1.5 in /usr/local/lib/python3.10/dist-packages (from python-dateutil>=2.8.1->pandas->palmerpenguins) (1.16.0)\n",
      "Installing collected packages: palmerpenguins\n",
      "Successfully installed palmerpenguins-0.1.4\n"
     ]
    }
   ],
   "source": [
    "!pip install palmerpenguins"
   ]
  },
  {
   "cell_type": "code",
   "execution_count": 45,
   "metadata": {
    "id": "5X8kO7xCG_yn"
   },
   "outputs": [],
   "source": [
    "# data set\n",
    "\n",
    "import pandas as pd\n",
    "from palmerpenguins import load_penguins\n",
    "from plotnine import *\n",
    "import numpy as np\n",
    "import sklearn as sklearn\n",
    "from sklearn.pipeline import Pipeline\n",
    "from sklearn.preprocessing import StandardScaler, OneHotEncoder, PolynomialFeatures, FunctionTransformer\n",
    "from sklearn.linear_model import LinearRegression\n",
    "from sklearn.neighbors import KNeighborsRegressor\n",
    "from sklearn.model_selection import train_test_split\n",
    "from sklearn.metrics import r2_score, mean_squared_error\n",
    "from sklearn.compose import ColumnTransformer,make_column_selector\n",
    "from sklearn.model_selection import cross_val_score\n",
    "from sklearn.model_selection import GridSearchCV\n",
    "from sklearn.tree import DecisionTreeRegressor"
   ]
  },
  {
   "cell_type": "code",
   "execution_count": null,
   "metadata": {
    "id": "Bj_0VvPJMWyp"
   },
   "outputs": [],
   "source": [
    "# Code Here\n",
    "penguins = load_penguins()\n",
    "penguins = penguins.dropna()\n",
    "penguins.head()"
   ]
  },
  {
   "cell_type": "markdown",
   "metadata": {
    "id": "CXmaqajAchqz"
   },
   "source": [
    "Let's use the other variables to predict `bill_depth_mm`. Prepare your data and fit the following models on the entire dataset:\n",
    "\n",
    "* Your best multiple linear regression model from before\n",
    "* Two kNN models (for different values of K)\n",
    "* A decision tree model\n",
    "\n",
    "Create a plot like the right plot of Fig 1. in our `Model Validation` chapter with the training and test error plotted for each of your four models.\n",
    "\n",
    "Which of your models was best?"
   ]
  },
  {
   "cell_type": "code",
   "execution_count": 10,
   "metadata": {
    "id": "ug-0MtX9JSN1"
   },
   "outputs": [],
   "source": [
    "# Best Linear Model using all the variables\n",
    "# Define Variables\n",
    "\n",
    "# Use 3 variables to predict bill_depth so just drop bill_depth\n",
    "X = penguins.drop(['bill_depth_mm'], axis = 1) # still a two-dimensional object\n",
    "\n",
    "# y is just bill_depth\n",
    "y = penguins['bill_depth_mm']\n",
    "\n",
    "X_train, X_test, y_train, y_test = train_test_split(X,y)\n",
    "\n",
    "# Best Linear pipeline\n",
    "ct = ColumnTransformer(\n",
    "  [(\"standardize\",\n",
    "    StandardScaler(),['flipper_length_mm','body_mass_g'])\n",
    "  ],\n",
    "  remainder = \"drop\").set_output(transform=\"pandas\")\n",
    "\n",
    "\n",
    "lr_pipeline = Pipeline(\n",
    "  [(\"preprocessing\", ct),\n",
    "  (\"linear_regression\", LinearRegression())]\n",
    ").set_output(transform=\"pandas\")"
   ]
  },
  {
   "cell_type": "code",
   "execution_count": 11,
   "metadata": {
    "id": "xwpeWNDnByoH"
   },
   "outputs": [],
   "source": [
    "# Fit Linear Model\n",
    "fitted_linear = lr_pipeline.fit(X_train,y_train)\n",
    "\n",
    "# Predictions for test and training data\n",
    "y_linear_test = fitted_linear.predict(X_test)\n",
    "y_linear_train = fitted_linear.predict(X_train)\n",
    "\n",
    "# mean squared score for training and test predictions\n",
    "lmtest = mean_squared_error(y_test, y_linear_test)\n",
    "lmtrain = mean_squared_error(y_train,y_linear_train)"
   ]
  },
  {
   "cell_type": "code",
   "execution_count": 12,
   "metadata": {
    "id": "R3MYBNQmcyld"
   },
   "outputs": [],
   "source": [
    "# kNN Model and Pipeline - K value of 10\n",
    "\n",
    "ct2 = ColumnTransformer(\n",
    "  [(\"dummify\",\n",
    "    OneHotEncoder(sparse_output = False,handle_unknown='ignore'), # take it out and run it to see error\n",
    "    make_column_selector(dtype_include=object)),\n",
    "    (\"standardize\",\n",
    "    StandardScaler(),\n",
    "    make_column_selector(dtype_include=np.number))\n",
    "  ],\n",
    "  remainder = \"passthrough\")\n",
    "\n",
    "\n",
    "knn_pipeline = Pipeline(\n",
    "  [(\"preprocessing\", ct2),\n",
    "  (\"kNN\", KNeighborsRegressor(n_neighbors = 10))]\n",
    ").set_output(transform=\"pandas\")\n",
    "\n"
   ]
  },
  {
   "cell_type": "code",
   "execution_count": 13,
   "metadata": {
    "id": "0Oqg9WNoFyu4"
   },
   "outputs": [],
   "source": [
    "# Fit KNN Model\n",
    "fitted_knn = knn_pipeline.fit(X_train,y_train)\n",
    "\n",
    "# Predictions for test and training data\n",
    "y_knn_test = fitted_knn.predict(X_test)\n",
    "y_knn_train = fitted_knn.predict(X_train)\n",
    "\n",
    "# mean squared score for training and test predictions\n",
    "kmtest = mean_squared_error(y_test, y_knn_test)\n",
    "kmtrain = mean_squared_error(y_train,y_knn_train)"
   ]
  },
  {
   "cell_type": "code",
   "execution_count": 14,
   "metadata": {
    "id": "ZpxbR_JAMLmp"
   },
   "outputs": [],
   "source": [
    "# # kNN Model and Pipeline 2 - K value of 50\n",
    "\n",
    "ct3 = ColumnTransformer(\n",
    "  [(\"dummify\",\n",
    "    OneHotEncoder(sparse_output = False,handle_unknown='ignore'), # take it out and run it to see error\n",
    "    make_column_selector(dtype_include=object)),\n",
    "    (\"standardize\",\n",
    "    StandardScaler(),\n",
    "    make_column_selector(dtype_include=np.number))\n",
    "  ],\n",
    "  remainder = \"passthrough\")\n",
    "\n",
    "\n",
    "knn_pipeline_2 = Pipeline(\n",
    "  [(\"preprocessing\", ct3),\n",
    "  (\"kNN\", KNeighborsRegressor(50))]\n",
    ").set_output(transform=\"pandas\")\n",
    "\n"
   ]
  },
  {
   "cell_type": "code",
   "execution_count": 15,
   "metadata": {
    "id": "rDt2RLv4JIIZ"
   },
   "outputs": [],
   "source": [
    "# Fit KNN2 Model\n",
    "fitted_knn2 = knn_pipeline_2.fit(X_train,y_train)\n",
    "\n",
    "# Predictions for test and training data\n",
    "y_knn_test2 = fitted_knn2.predict(X_test)\n",
    "y_knn_train2 = fitted_knn2.predict(X_train)\n",
    "\n",
    "# mean squared score for training and test predictions\n",
    "kmtest2 = mean_squared_error(y_test, y_knn_test2)\n",
    "kmtrain2 = mean_squared_error(y_train,y_knn_train2)"
   ]
  },
  {
   "cell_type": "code",
   "execution_count": 17,
   "metadata": {
    "id": "pdPnivWPQ3vd"
   },
   "outputs": [],
   "source": [
    "# Decision Tree Model and Pipeline\n",
    "\n",
    "ct4 = ColumnTransformer(\n",
    "  [(\"dummify\",\n",
    "    OneHotEncoder(sparse_output = False,handle_unknown='ignore'), # take it out and run it to see error\n",
    "    make_column_selector(dtype_include=object)),\n",
    "    (\"standardize\",\n",
    "    StandardScaler(),\n",
    "    make_column_selector(dtype_include=np.number))\n",
    "  ],\n",
    "  remainder = \"passthrough\")\n",
    "\n",
    "\n",
    "dt_pipeline = Pipeline(\n",
    "  [(\"preprocessing\", ct4),\n",
    "  (\"decision_tree\", DecisionTreeRegressor())]\n",
    ").set_output(transform=\"pandas\")\n",
    "\n"
   ]
  },
  {
   "cell_type": "code",
   "execution_count": 18,
   "metadata": {
    "id": "TVvm4BhMVgV4"
   },
   "outputs": [],
   "source": [
    "# Fit Decision Tree Model\n",
    "fitted_dt = dt_pipeline.fit(X_train,y_train)\n",
    "\n",
    "# Predictions for test and training data\n",
    "y_dt_test = fitted_dt.predict(X_test)\n",
    "y_dt_train = fitted_dt.predict(X_train)\n",
    "\n",
    "# mean squared score for training and test predictions\n",
    "dttest = mean_squared_error(y_test, y_dt_test)\n",
    "dttrain = mean_squared_error(y_train, y_dt_train)"
   ]
  },
  {
   "cell_type": "code",
   "execution_count": 21,
   "metadata": {
    "colab": {
     "base_uri": "https://localhost:8080/",
     "height": 175
    },
    "id": "vywjNn1QWMgX",
    "outputId": "7ebd54e5-1f0a-4585-88b4-791b3fc5cdf6"
   },
   "outputs": [
    {
     "data": {
      "text/html": [
       "\n",
       "  <div id=\"df-5c1cdb7b-b169-47de-88e6-ea63459083c2\" class=\"colab-df-container\">\n",
       "    <div>\n",
       "<style scoped>\n",
       "    .dataframe tbody tr th:only-of-type {\n",
       "        vertical-align: middle;\n",
       "    }\n",
       "\n",
       "    .dataframe tbody tr th {\n",
       "        vertical-align: top;\n",
       "    }\n",
       "\n",
       "    .dataframe thead th {\n",
       "        text-align: right;\n",
       "    }\n",
       "</style>\n",
       "<table border=\"1\" class=\"dataframe\">\n",
       "  <thead>\n",
       "    <tr style=\"text-align: right;\">\n",
       "      <th></th>\n",
       "      <th>model</th>\n",
       "      <th>#_of_predictors</th>\n",
       "      <th>MSE_test</th>\n",
       "      <th>MSE_train</th>\n",
       "    </tr>\n",
       "  </thead>\n",
       "  <tbody>\n",
       "    <tr>\n",
       "      <th>0</th>\n",
       "      <td>linear</td>\n",
       "      <td>2</td>\n",
       "      <td>2.352339</td>\n",
       "      <td>2.633004</td>\n",
       "    </tr>\n",
       "    <tr>\n",
       "      <th>1</th>\n",
       "      <td>knn10</td>\n",
       "      <td>7</td>\n",
       "      <td>0.669619</td>\n",
       "      <td>0.530323</td>\n",
       "    </tr>\n",
       "    <tr>\n",
       "      <th>2</th>\n",
       "      <td>knn50</td>\n",
       "      <td>7</td>\n",
       "      <td>0.891737</td>\n",
       "      <td>0.833651</td>\n",
       "    </tr>\n",
       "    <tr>\n",
       "      <th>3</th>\n",
       "      <td>decisiontree</td>\n",
       "      <td>7</td>\n",
       "      <td>0.835357</td>\n",
       "      <td>0.000000</td>\n",
       "    </tr>\n",
       "  </tbody>\n",
       "</table>\n",
       "</div>\n",
       "    <div class=\"colab-df-buttons\">\n",
       "\n",
       "  <div class=\"colab-df-container\">\n",
       "    <button class=\"colab-df-convert\" onclick=\"convertToInteractive('df-5c1cdb7b-b169-47de-88e6-ea63459083c2')\"\n",
       "            title=\"Convert this dataframe to an interactive table.\"\n",
       "            style=\"display:none;\">\n",
       "\n",
       "  <svg xmlns=\"http://www.w3.org/2000/svg\" height=\"24px\" viewBox=\"0 -960 960 960\">\n",
       "    <path d=\"M120-120v-720h720v720H120Zm60-500h600v-160H180v160Zm220 220h160v-160H400v160Zm0 220h160v-160H400v160ZM180-400h160v-160H180v160Zm440 0h160v-160H620v160ZM180-180h160v-160H180v160Zm440 0h160v-160H620v160Z\"/>\n",
       "  </svg>\n",
       "    </button>\n",
       "\n",
       "  <style>\n",
       "    .colab-df-container {\n",
       "      display:flex;\n",
       "      gap: 12px;\n",
       "    }\n",
       "\n",
       "    .colab-df-convert {\n",
       "      background-color: #E8F0FE;\n",
       "      border: none;\n",
       "      border-radius: 50%;\n",
       "      cursor: pointer;\n",
       "      display: none;\n",
       "      fill: #1967D2;\n",
       "      height: 32px;\n",
       "      padding: 0 0 0 0;\n",
       "      width: 32px;\n",
       "    }\n",
       "\n",
       "    .colab-df-convert:hover {\n",
       "      background-color: #E2EBFA;\n",
       "      box-shadow: 0px 1px 2px rgba(60, 64, 67, 0.3), 0px 1px 3px 1px rgba(60, 64, 67, 0.15);\n",
       "      fill: #174EA6;\n",
       "    }\n",
       "\n",
       "    .colab-df-buttons div {\n",
       "      margin-bottom: 4px;\n",
       "    }\n",
       "\n",
       "    [theme=dark] .colab-df-convert {\n",
       "      background-color: #3B4455;\n",
       "      fill: #D2E3FC;\n",
       "    }\n",
       "\n",
       "    [theme=dark] .colab-df-convert:hover {\n",
       "      background-color: #434B5C;\n",
       "      box-shadow: 0px 1px 3px 1px rgba(0, 0, 0, 0.15);\n",
       "      filter: drop-shadow(0px 1px 2px rgba(0, 0, 0, 0.3));\n",
       "      fill: #FFFFFF;\n",
       "    }\n",
       "  </style>\n",
       "\n",
       "    <script>\n",
       "      const buttonEl =\n",
       "        document.querySelector('#df-5c1cdb7b-b169-47de-88e6-ea63459083c2 button.colab-df-convert');\n",
       "      buttonEl.style.display =\n",
       "        google.colab.kernel.accessAllowed ? 'block' : 'none';\n",
       "\n",
       "      async function convertToInteractive(key) {\n",
       "        const element = document.querySelector('#df-5c1cdb7b-b169-47de-88e6-ea63459083c2');\n",
       "        const dataTable =\n",
       "          await google.colab.kernel.invokeFunction('convertToInteractive',\n",
       "                                                    [key], {});\n",
       "        if (!dataTable) return;\n",
       "\n",
       "        const docLinkHtml = 'Like what you see? Visit the ' +\n",
       "          '<a target=\"_blank\" href=https://colab.research.google.com/notebooks/data_table.ipynb>data table notebook</a>'\n",
       "          + ' to learn more about interactive tables.';\n",
       "        element.innerHTML = '';\n",
       "        dataTable['output_type'] = 'display_data';\n",
       "        await google.colab.output.renderOutput(dataTable, element);\n",
       "        const docLink = document.createElement('div');\n",
       "        docLink.innerHTML = docLinkHtml;\n",
       "        element.appendChild(docLink);\n",
       "      }\n",
       "    </script>\n",
       "  </div>\n",
       "\n",
       "\n",
       "<div id=\"df-ef6ae796-2b29-448c-8f65-eee2afd4c1cd\">\n",
       "  <button class=\"colab-df-quickchart\" onclick=\"quickchart('df-ef6ae796-2b29-448c-8f65-eee2afd4c1cd')\"\n",
       "            title=\"Suggest charts\"\n",
       "            style=\"display:none;\">\n",
       "\n",
       "<svg xmlns=\"http://www.w3.org/2000/svg\" height=\"24px\"viewBox=\"0 0 24 24\"\n",
       "     width=\"24px\">\n",
       "    <g>\n",
       "        <path d=\"M19 3H5c-1.1 0-2 .9-2 2v14c0 1.1.9 2 2 2h14c1.1 0 2-.9 2-2V5c0-1.1-.9-2-2-2zM9 17H7v-7h2v7zm4 0h-2V7h2v10zm4 0h-2v-4h2v4z\"/>\n",
       "    </g>\n",
       "</svg>\n",
       "  </button>\n",
       "\n",
       "<style>\n",
       "  .colab-df-quickchart {\n",
       "      --bg-color: #E8F0FE;\n",
       "      --fill-color: #1967D2;\n",
       "      --hover-bg-color: #E2EBFA;\n",
       "      --hover-fill-color: #174EA6;\n",
       "      --disabled-fill-color: #AAA;\n",
       "      --disabled-bg-color: #DDD;\n",
       "  }\n",
       "\n",
       "  [theme=dark] .colab-df-quickchart {\n",
       "      --bg-color: #3B4455;\n",
       "      --fill-color: #D2E3FC;\n",
       "      --hover-bg-color: #434B5C;\n",
       "      --hover-fill-color: #FFFFFF;\n",
       "      --disabled-bg-color: #3B4455;\n",
       "      --disabled-fill-color: #666;\n",
       "  }\n",
       "\n",
       "  .colab-df-quickchart {\n",
       "    background-color: var(--bg-color);\n",
       "    border: none;\n",
       "    border-radius: 50%;\n",
       "    cursor: pointer;\n",
       "    display: none;\n",
       "    fill: var(--fill-color);\n",
       "    height: 32px;\n",
       "    padding: 0;\n",
       "    width: 32px;\n",
       "  }\n",
       "\n",
       "  .colab-df-quickchart:hover {\n",
       "    background-color: var(--hover-bg-color);\n",
       "    box-shadow: 0 1px 2px rgba(60, 64, 67, 0.3), 0 1px 3px 1px rgba(60, 64, 67, 0.15);\n",
       "    fill: var(--button-hover-fill-color);\n",
       "  }\n",
       "\n",
       "  .colab-df-quickchart-complete:disabled,\n",
       "  .colab-df-quickchart-complete:disabled:hover {\n",
       "    background-color: var(--disabled-bg-color);\n",
       "    fill: var(--disabled-fill-color);\n",
       "    box-shadow: none;\n",
       "  }\n",
       "\n",
       "  .colab-df-spinner {\n",
       "    border: 2px solid var(--fill-color);\n",
       "    border-color: transparent;\n",
       "    border-bottom-color: var(--fill-color);\n",
       "    animation:\n",
       "      spin 1s steps(1) infinite;\n",
       "  }\n",
       "\n",
       "  @keyframes spin {\n",
       "    0% {\n",
       "      border-color: transparent;\n",
       "      border-bottom-color: var(--fill-color);\n",
       "      border-left-color: var(--fill-color);\n",
       "    }\n",
       "    20% {\n",
       "      border-color: transparent;\n",
       "      border-left-color: var(--fill-color);\n",
       "      border-top-color: var(--fill-color);\n",
       "    }\n",
       "    30% {\n",
       "      border-color: transparent;\n",
       "      border-left-color: var(--fill-color);\n",
       "      border-top-color: var(--fill-color);\n",
       "      border-right-color: var(--fill-color);\n",
       "    }\n",
       "    40% {\n",
       "      border-color: transparent;\n",
       "      border-right-color: var(--fill-color);\n",
       "      border-top-color: var(--fill-color);\n",
       "    }\n",
       "    60% {\n",
       "      border-color: transparent;\n",
       "      border-right-color: var(--fill-color);\n",
       "    }\n",
       "    80% {\n",
       "      border-color: transparent;\n",
       "      border-right-color: var(--fill-color);\n",
       "      border-bottom-color: var(--fill-color);\n",
       "    }\n",
       "    90% {\n",
       "      border-color: transparent;\n",
       "      border-bottom-color: var(--fill-color);\n",
       "    }\n",
       "  }\n",
       "</style>\n",
       "\n",
       "  <script>\n",
       "    async function quickchart(key) {\n",
       "      const quickchartButtonEl =\n",
       "        document.querySelector('#' + key + ' button');\n",
       "      quickchartButtonEl.disabled = true;  // To prevent multiple clicks.\n",
       "      quickchartButtonEl.classList.add('colab-df-spinner');\n",
       "      try {\n",
       "        const charts = await google.colab.kernel.invokeFunction(\n",
       "            'suggestCharts', [key], {});\n",
       "      } catch (error) {\n",
       "        console.error('Error during call to suggestCharts:', error);\n",
       "      }\n",
       "      quickchartButtonEl.classList.remove('colab-df-spinner');\n",
       "      quickchartButtonEl.classList.add('colab-df-quickchart-complete');\n",
       "    }\n",
       "    (() => {\n",
       "      let quickchartButtonEl =\n",
       "        document.querySelector('#df-ef6ae796-2b29-448c-8f65-eee2afd4c1cd button');\n",
       "      quickchartButtonEl.style.display =\n",
       "        google.colab.kernel.accessAllowed ? 'block' : 'none';\n",
       "    })();\n",
       "  </script>\n",
       "</div>\n",
       "    </div>\n",
       "  </div>\n"
      ],
      "text/plain": [
       "          model  #_of_predictors  MSE_test  MSE_train\n",
       "0        linear                2  2.352339   2.633004\n",
       "1         knn10                7  0.669619   0.530323\n",
       "2         knn50                7  0.891737   0.833651\n",
       "3  decisiontree                7  0.835357   0.000000"
      ]
     },
     "execution_count": 21,
     "metadata": {},
     "output_type": "execute_result"
    }
   ],
   "source": [
    "# Dataframe of all the Models and MSE values\n",
    "\n",
    "test_error = {'model':['linear','knn10','knn50','decisiontree'], '#_of_predictors':[2,7,7,7],\n",
    "              'MSE_test':[lmtest,kmtest,kmtest2,dttest],\n",
    "              'MSE_train': [lmtrain,kmtrain,kmtrain2,dttrain]}\n",
    "r2 = pd.DataFrame(test_error)\n",
    "r2"
   ]
  },
  {
   "cell_type": "code",
   "execution_count": 61,
   "metadata": {
    "colab": {
     "base_uri": "https://localhost:8080/",
     "height": 606
    },
    "id": "-U8RVqrJYaKX",
    "outputId": "741a321a-67bc-464b-99db-bb2ca8236cf4"
   },
   "outputs": [
    {
     "name": "stderr",
     "output_type": "stream",
     "text": [
      "/usr/local/lib/python3.10/dist-packages/plotnine/stats/stat_smooth.py:210: PlotnineWarning: Smoothing requires 2 or more points. Got 1. Not enough points for smoothing. If this message a surprise, make sure the column mapped to the x aesthetic has the right dtype.\n",
      "/usr/local/lib/python3.10/dist-packages/plotnine/stats/stat_smooth.py:210: PlotnineWarning: Smoothing requires 2 or more points. Got 1. Not enough points for smoothing. If this message a surprise, make sure the column mapped to the x aesthetic has the right dtype.\n",
      "/usr/local/lib/python3.10/dist-packages/plotnine/stats/stat_smooth.py:210: PlotnineWarning: Smoothing requires 2 or more points. Got 1. Not enough points for smoothing. If this message a surprise, make sure the column mapped to the x aesthetic has the right dtype.\n",
      "/usr/local/lib/python3.10/dist-packages/plotnine/stats/stat_smooth.py:210: PlotnineWarning: Smoothing requires 2 or more points. Got 1. Not enough points for smoothing. If this message a surprise, make sure the column mapped to the x aesthetic has the right dtype.\n"
     ]
    },
    {
     "data": {
      "image/png": "[encoded data removed]",
      "text/plain": [
       "<Figure size 640x480 with 1 Axes>"
      ]
     },
     "metadata": {
      "image/png": {
       "height": 480,
       "width": 640
      }
     },
     "output_type": "display_data"
    },
    {
     "data": {
      "text/plain": [
       "<Figure Size: (640 x 480)>"
      ]
     },
     "execution_count": 61,
     "metadata": {},
     "output_type": "execute_result"
    }
   ],
   "source": [
    "(ggplot(r2, aes(x = '#_of_predictors', y = 'MSE_test', fill = 'model'))\n",
    "+ geom_point(aes(y = 'MSE_train'), shape = 's', size = 3)\n",
    "+ geom_point(aes(y = 'MSE_test'), shape = 's', size = 3) # shape = 's' changes points to squares\n",
    "+ geom_smooth(aes(x='#_of_predictors', y='MSE_test', group='model'), method='lm', se=False)\n",
    "+ theme_minimal() # takes away the grey background\n",
    "+ theme(\n",
    "        panel_grid=element_blank(),# takes away all the lines\n",
    "        plot_background=element_rect(fill=\"white\"), # makes background white\n",
    "        panel_border=element_rect(color=\"black\", size=1), # adds border\n",
    "        axis_title_y=element_text(text=\"Mean Squared Error\"),\n",
    "        axis_title_x=element_text(text='Number of Predictors'), # Y-axis title\n",
    "        axis_text_y=element_text(size=10),  # Adjust Y-axis text size\n",
    "        axis_ticks=element_line(color=\"black\", size=0.2)  # Y-axis tick color,  # Y-axis tick length\n",
    "        )\n",
    "+ scale_y_continuous(limits=(0, 3), breaks=[0, 0.5, 1, 1.5, 2, 2.5, 3])  # Set Y-axis range and breaks\n",
    "    + geom_hline(yintercept=1, linetype='dashed', color='black')  # Add a dashed line at y = 1\n",
    ")"
   ]
  },
  {
   "cell_type": "markdown",
   "metadata": {
    "id": "FMsOI-Tctscj"
   },
   "source": [
    "Decision tree has the best MSE. It has a wide variance between the test data and the training data compared to the other models.\n",
    "\n",
    "The k values I used were 10 and 50. The knn model with the k value of 10 had lower MSE and the knn model with a k value of 50 had a similar MSE for both training and test.\n",
    "\n",
    "Therefore I think the KNN50 would be the best fit model because it predicted similar MSE's.\n",
    "\n",
    "\n",
    "I didn't specify the alpha value therefore the training data MSE is 0 because it is perfectly trained on my data."
   ]
  }
 ],
 "metadata": {
  "colab": {
   "provenance": []
  },
  "kernelspec": {
   "display_name": "Python 3 (ipykernel)",
   "language": "python",
   "name": "python3"
  },
  "language_info": {
   "codemirror_mode": {
    "name": "ipython",
    "version": 3
   },
   "file_extension": ".py",
   "mimetype": "text/x-python",
   "name": "python",
   "nbconvert_exporter": "python",
   "pygments_lexer": "ipython3",
   "version": "3.11.4"
  }
 },
 "nbformat": 4,
 "nbformat_minor": 4
}

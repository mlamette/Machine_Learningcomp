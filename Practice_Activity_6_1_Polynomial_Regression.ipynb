{
  "nbformat": 4,
  "nbformat_minor": 0,
  "metadata": {
    "colab": {
      "provenance": []
    },
    "kernelspec": {
      "name": "python3",
      "display_name": "Python 3"
    },
    "language_info": {
      "name": "python"
    }
  },
  "cells": [
    {
      "cell_type": "markdown",
      "source": [
        "# Palmer Penguins Modeling\n",
        "\n",
        "Import the Palmer Penguins dataset and print out the first few rows.\n",
        "\n",
        "Suppose we want to predict `bill_depth_mm` using the other variables in the dataset.\n",
        "\n",
        "Which variables would we need to **dummify**?"
      ],
      "metadata": {
        "id": "M3NFTx_UIZjO"
      }
    },
    {
      "cell_type": "code",
      "source": [
        "!pip install sklearn"
      ],
      "metadata": {
        "id": "wfm9Reb7tHHd",
        "colab": {
          "base_uri": "https://localhost:8080/"
        },
        "outputId": "79dc4121-ef67-4676-ce0c-08c42de8304b"
      },
      "execution_count": 5,
      "outputs": [
        {
          "output_type": "stream",
          "name": "stdout",
          "text": [
            "Collecting sklearn\n",
            "  Downloading sklearn-0.0.post10.tar.gz (3.6 kB)\n",
            "  \u001b[1;31merror\u001b[0m: \u001b[1msubprocess-exited-with-error\u001b[0m\n",
            "  \n",
            "  \u001b[31m×\u001b[0m \u001b[32mpython setup.py egg_info\u001b[0m did not run successfully.\n",
            "  \u001b[31m│\u001b[0m exit code: \u001b[1;36m1\u001b[0m\n",
            "  \u001b[31m╰─>\u001b[0m See above for output.\n",
            "  \n",
            "  \u001b[1;35mnote\u001b[0m: This error originates from a subprocess, and is likely not a problem with pip.\n",
            "  Preparing metadata (setup.py) ... \u001b[?25l\u001b[?25herror\n",
            "\u001b[1;31merror\u001b[0m: \u001b[1mmetadata-generation-failed\u001b[0m\n",
            "\n",
            "\u001b[31m×\u001b[0m Encountered error while generating package metadata.\n",
            "\u001b[31m╰─>\u001b[0m See above for output.\n",
            "\n",
            "\u001b[1;35mnote\u001b[0m: This is an issue with the package mentioned above, not pip.\n",
            "\u001b[1;36mhint\u001b[0m: See above for details.\n"
          ]
        }
      ]
    },
    {
      "cell_type": "code",
      "source": [
        "!pip install palmerpenguins"
      ],
      "metadata": {
        "colab": {
          "base_uri": "https://localhost:8080/"
        },
        "id": "UeUKhSqEu7f-",
        "outputId": "d6c007e0-a2e1-4c65-efc8-42004d28f6b3"
      },
      "execution_count": 6,
      "outputs": [
        {
          "output_type": "stream",
          "name": "stdout",
          "text": [
            "Collecting palmerpenguins\n",
            "  Downloading palmerpenguins-0.1.4-py3-none-any.whl (17 kB)\n",
            "Requirement already satisfied: pandas in /usr/local/lib/python3.10/dist-packages (from palmerpenguins) (1.5.3)\n",
            "Requirement already satisfied: numpy in /usr/local/lib/python3.10/dist-packages (from palmerpenguins) (1.23.5)\n",
            "Requirement already satisfied: python-dateutil>=2.8.1 in /usr/local/lib/python3.10/dist-packages (from pandas->palmerpenguins) (2.8.2)\n",
            "Requirement already satisfied: pytz>=2020.1 in /usr/local/lib/python3.10/dist-packages (from pandas->palmerpenguins) (2023.3.post1)\n",
            "Requirement already satisfied: six>=1.5 in /usr/local/lib/python3.10/dist-packages (from python-dateutil>=2.8.1->pandas->palmerpenguins) (1.16.0)\n",
            "Installing collected packages: palmerpenguins\n",
            "Successfully installed palmerpenguins-0.1.4\n"
          ]
        }
      ]
    },
    {
      "cell_type": "code",
      "source": [
        "import pandas as pd\n",
        "from sklearn.pipeline import Pipeline\n",
        "from sklearn.linear_model import LinearRegression\n",
        "from sklearn.metrics import r2_score\n",
        "from sklearn.preprocessing import OneHotEncoder\n",
        "from sklearn.model_selection import train_test_split\n",
        "from palmerpenguins import load_penguins\n",
        "from sklearn.compose import ColumnTransformer\n",
        "from sklearn.preprocessing import PolynomialFeatures\n",
        "from plotnine import *"
      ],
      "metadata": {
        "id": "StsISM66s9Qq"
      },
      "execution_count": 7,
      "outputs": []
    },
    {
      "cell_type": "code",
      "execution_count": 8,
      "metadata": {
        "id": "dDD69T-VISjB"
      },
      "outputs": [],
      "source": [
        "# Code Here\n"
      ]
    },
    {
      "cell_type": "code",
      "source": [
        "penguins = load_penguins()\n",
        "penguins = penguins.dropna()\n",
        "# X is a DataFrame\n",
        "X = penguins.drop('bill_length_mm', axis = 1) # still a two-dimensional object\n",
        "\n",
        "# y is a series\n",
        "y = penguins['bill_length_mm'] # list of one thing\n",
        "\n",
        "X_train, X_test, y_train, y_test = train_test_split(X,y)"
      ],
      "metadata": {
        "id": "y-t0FSX8tj9a"
      },
      "execution_count": 9,
      "outputs": []
    },
    {
      "cell_type": "code",
      "source": [
        "## preprocessing: One-hot-encoder\n",
        "## Model spec: Linear REgression\n",
        "\n",
        "lr = LinearRegression()\n",
        "enc = OneHotEncoder() # helps automatically dummify variables\n",
        "\n",
        "ct = ColumnTransformer([('dummify_s', enc, ['species']), # whatever you want to do to your testing\n",
        "                        ('dummify_i', enc, ['island']),\n",
        "                        ('dummify_sex', enc, ['sex'])]\n",
        ")\n",
        "\n",
        "\n",
        "# [('scaler, StandardScaler()), ('svc', SVC())]\n",
        "\n",
        "my_pipeline = Pipeline(\n",
        "    [('dummify_everything',ct),\n",
        "    ('ols',lr)] # just labeling it as linear regression; ols stands for...idk\n",
        ")"
      ],
      "metadata": {
        "id": "oeTC6iYZtZst"
      },
      "execution_count": 10,
      "outputs": []
    },
    {
      "cell_type": "code",
      "source": [
        "enc.fit_transform(penguins[['species']]) # do not need this step if you do the prior code\n",
        "\n",
        "# don't really know what this stuff means"
      ],
      "metadata": {
        "colab": {
          "base_uri": "https://localhost:8080/"
        },
        "id": "xR2hhRmXvyTX",
        "outputId": "dd8e4a7c-c092-4180-9146-1c2151b14338"
      },
      "execution_count": 11,
      "outputs": [
        {
          "output_type": "execute_result",
          "data": {
            "text/plain": [
              "<333x3 sparse matrix of type '<class 'numpy.float64'>'\n",
              "\twith 333 stored elements in Compressed Sparse Row format>"
            ]
          },
          "metadata": {},
          "execution_count": 11
        }
      ]
    },
    {
      "cell_type": "code",
      "source": [
        "fitted_pipeline = my_pipeline.fit(X_train, y_train)"
      ],
      "metadata": {
        "id": "l32wx1aExISE"
      },
      "execution_count": 12,
      "outputs": []
    },
    {
      "cell_type": "code",
      "source": [
        "fitted_pipeline"
      ],
      "metadata": {
        "colab": {
          "base_uri": "https://localhost:8080/",
          "height": 192
        },
        "id": "9wfc6zgLx0qD",
        "outputId": "3195aba5-b1d6-4ce7-ae50-fcd30d7d9990"
      },
      "execution_count": 13,
      "outputs": [
        {
          "output_type": "execute_result",
          "data": {
            "text/plain": [
              "Pipeline(steps=[('dummify_everything',\n",
              "                 ColumnTransformer(transformers=[('dummify_s', OneHotEncoder(),\n",
              "                                                  ['species']),\n",
              "                                                 ('dummify_i', OneHotEncoder(),\n",
              "                                                  ['island']),\n",
              "                                                 ('dummify_sex',\n",
              "                                                  OneHotEncoder(), ['sex'])])),\n",
              "                ('ols', LinearRegression())])"
            ],
            "text/html": [
              "<style>#sk-container-id-1 {color: black;background-color: white;}#sk-container-id-1 pre{padding: 0;}#sk-container-id-1 div.sk-toggleable {background-color: white;}#sk-container-id-1 label.sk-toggleable__label {cursor: pointer;display: block;width: 100%;margin-bottom: 0;padding: 0.3em;box-sizing: border-box;text-align: center;}#sk-container-id-1 label.sk-toggleable__label-arrow:before {content: \"▸\";float: left;margin-right: 0.25em;color: #696969;}#sk-container-id-1 label.sk-toggleable__label-arrow:hover:before {color: black;}#sk-container-id-1 div.sk-estimator:hover label.sk-toggleable__label-arrow:before {color: black;}#sk-container-id-1 div.sk-toggleable__content {max-height: 0;max-width: 0;overflow: hidden;text-align: left;background-color: #f0f8ff;}#sk-container-id-1 div.sk-toggleable__content pre {margin: 0.2em;color: black;border-radius: 0.25em;background-color: #f0f8ff;}#sk-container-id-1 input.sk-toggleable__control:checked~div.sk-toggleable__content {max-height: 200px;max-width: 100%;overflow: auto;}#sk-container-id-1 input.sk-toggleable__control:checked~label.sk-toggleable__label-arrow:before {content: \"▾\";}#sk-container-id-1 div.sk-estimator input.sk-toggleable__control:checked~label.sk-toggleable__label {background-color: #d4ebff;}#sk-container-id-1 div.sk-label input.sk-toggleable__control:checked~label.sk-toggleable__label {background-color: #d4ebff;}#sk-container-id-1 input.sk-hidden--visually {border: 0;clip: rect(1px 1px 1px 1px);clip: rect(1px, 1px, 1px, 1px);height: 1px;margin: -1px;overflow: hidden;padding: 0;position: absolute;width: 1px;}#sk-container-id-1 div.sk-estimator {font-family: monospace;background-color: #f0f8ff;border: 1px dotted black;border-radius: 0.25em;box-sizing: border-box;margin-bottom: 0.5em;}#sk-container-id-1 div.sk-estimator:hover {background-color: #d4ebff;}#sk-container-id-1 div.sk-parallel-item::after {content: \"\";width: 100%;border-bottom: 1px solid gray;flex-grow: 1;}#sk-container-id-1 div.sk-label:hover label.sk-toggleable__label {background-color: #d4ebff;}#sk-container-id-1 div.sk-serial::before {content: \"\";position: absolute;border-left: 1px solid gray;box-sizing: border-box;top: 0;bottom: 0;left: 50%;z-index: 0;}#sk-container-id-1 div.sk-serial {display: flex;flex-direction: column;align-items: center;background-color: white;padding-right: 0.2em;padding-left: 0.2em;position: relative;}#sk-container-id-1 div.sk-item {position: relative;z-index: 1;}#sk-container-id-1 div.sk-parallel {display: flex;align-items: stretch;justify-content: center;background-color: white;position: relative;}#sk-container-id-1 div.sk-item::before, #sk-container-id-1 div.sk-parallel-item::before {content: \"\";position: absolute;border-left: 1px solid gray;box-sizing: border-box;top: 0;bottom: 0;left: 50%;z-index: -1;}#sk-container-id-1 div.sk-parallel-item {display: flex;flex-direction: column;z-index: 1;position: relative;background-color: white;}#sk-container-id-1 div.sk-parallel-item:first-child::after {align-self: flex-end;width: 50%;}#sk-container-id-1 div.sk-parallel-item:last-child::after {align-self: flex-start;width: 50%;}#sk-container-id-1 div.sk-parallel-item:only-child::after {width: 0;}#sk-container-id-1 div.sk-dashed-wrapped {border: 1px dashed gray;margin: 0 0.4em 0.5em 0.4em;box-sizing: border-box;padding-bottom: 0.4em;background-color: white;}#sk-container-id-1 div.sk-label label {font-family: monospace;font-weight: bold;display: inline-block;line-height: 1.2em;}#sk-container-id-1 div.sk-label-container {text-align: center;}#sk-container-id-1 div.sk-container {/* jupyter's `normalize.less` sets `[hidden] { display: none; }` but bootstrap.min.css set `[hidden] { display: none !important; }` so we also need the `!important` here to be able to override the default hidden behavior on the sphinx rendered scikit-learn.org. See: https://github.com/scikit-learn/scikit-learn/issues/21755 */display: inline-block !important;position: relative;}#sk-container-id-1 div.sk-text-repr-fallback {display: none;}</style><div id=\"sk-container-id-1\" class=\"sk-top-container\"><div class=\"sk-text-repr-fallback\"><pre>Pipeline(steps=[(&#x27;dummify_everything&#x27;,\n",
              "                 ColumnTransformer(transformers=[(&#x27;dummify_s&#x27;, OneHotEncoder(),\n",
              "                                                  [&#x27;species&#x27;]),\n",
              "                                                 (&#x27;dummify_i&#x27;, OneHotEncoder(),\n",
              "                                                  [&#x27;island&#x27;]),\n",
              "                                                 (&#x27;dummify_sex&#x27;,\n",
              "                                                  OneHotEncoder(), [&#x27;sex&#x27;])])),\n",
              "                (&#x27;ols&#x27;, LinearRegression())])</pre><b>In a Jupyter environment, please rerun this cell to show the HTML representation or trust the notebook. <br />On GitHub, the HTML representation is unable to render, please try loading this page with nbviewer.org.</b></div><div class=\"sk-container\" hidden><div class=\"sk-item sk-dashed-wrapped\"><div class=\"sk-label-container\"><div class=\"sk-label sk-toggleable\"><input class=\"sk-toggleable__control sk-hidden--visually\" id=\"sk-estimator-id-1\" type=\"checkbox\" ><label for=\"sk-estimator-id-1\" class=\"sk-toggleable__label sk-toggleable__label-arrow\">Pipeline</label><div class=\"sk-toggleable__content\"><pre>Pipeline(steps=[(&#x27;dummify_everything&#x27;,\n",
              "                 ColumnTransformer(transformers=[(&#x27;dummify_s&#x27;, OneHotEncoder(),\n",
              "                                                  [&#x27;species&#x27;]),\n",
              "                                                 (&#x27;dummify_i&#x27;, OneHotEncoder(),\n",
              "                                                  [&#x27;island&#x27;]),\n",
              "                                                 (&#x27;dummify_sex&#x27;,\n",
              "                                                  OneHotEncoder(), [&#x27;sex&#x27;])])),\n",
              "                (&#x27;ols&#x27;, LinearRegression())])</pre></div></div></div><div class=\"sk-serial\"><div class=\"sk-item sk-dashed-wrapped\"><div class=\"sk-label-container\"><div class=\"sk-label sk-toggleable\"><input class=\"sk-toggleable__control sk-hidden--visually\" id=\"sk-estimator-id-2\" type=\"checkbox\" ><label for=\"sk-estimator-id-2\" class=\"sk-toggleable__label sk-toggleable__label-arrow\">dummify_everything: ColumnTransformer</label><div class=\"sk-toggleable__content\"><pre>ColumnTransformer(transformers=[(&#x27;dummify_s&#x27;, OneHotEncoder(), [&#x27;species&#x27;]),\n",
              "                                (&#x27;dummify_i&#x27;, OneHotEncoder(), [&#x27;island&#x27;]),\n",
              "                                (&#x27;dummify_sex&#x27;, OneHotEncoder(), [&#x27;sex&#x27;])])</pre></div></div></div><div class=\"sk-parallel\"><div class=\"sk-parallel-item\"><div class=\"sk-item\"><div class=\"sk-label-container\"><div class=\"sk-label sk-toggleable\"><input class=\"sk-toggleable__control sk-hidden--visually\" id=\"sk-estimator-id-3\" type=\"checkbox\" ><label for=\"sk-estimator-id-3\" class=\"sk-toggleable__label sk-toggleable__label-arrow\">dummify_s</label><div class=\"sk-toggleable__content\"><pre>[&#x27;species&#x27;]</pre></div></div></div><div class=\"sk-serial\"><div class=\"sk-item\"><div class=\"sk-estimator sk-toggleable\"><input class=\"sk-toggleable__control sk-hidden--visually\" id=\"sk-estimator-id-4\" type=\"checkbox\" ><label for=\"sk-estimator-id-4\" class=\"sk-toggleable__label sk-toggleable__label-arrow\">OneHotEncoder</label><div class=\"sk-toggleable__content\"><pre>OneHotEncoder()</pre></div></div></div></div></div></div><div class=\"sk-parallel-item\"><div class=\"sk-item\"><div class=\"sk-label-container\"><div class=\"sk-label sk-toggleable\"><input class=\"sk-toggleable__control sk-hidden--visually\" id=\"sk-estimator-id-5\" type=\"checkbox\" ><label for=\"sk-estimator-id-5\" class=\"sk-toggleable__label sk-toggleable__label-arrow\">dummify_i</label><div class=\"sk-toggleable__content\"><pre>[&#x27;island&#x27;]</pre></div></div></div><div class=\"sk-serial\"><div class=\"sk-item\"><div class=\"sk-estimator sk-toggleable\"><input class=\"sk-toggleable__control sk-hidden--visually\" id=\"sk-estimator-id-6\" type=\"checkbox\" ><label for=\"sk-estimator-id-6\" class=\"sk-toggleable__label sk-toggleable__label-arrow\">OneHotEncoder</label><div class=\"sk-toggleable__content\"><pre>OneHotEncoder()</pre></div></div></div></div></div></div><div class=\"sk-parallel-item\"><div class=\"sk-item\"><div class=\"sk-label-container\"><div class=\"sk-label sk-toggleable\"><input class=\"sk-toggleable__control sk-hidden--visually\" id=\"sk-estimator-id-7\" type=\"checkbox\" ><label for=\"sk-estimator-id-7\" class=\"sk-toggleable__label sk-toggleable__label-arrow\">dummify_sex</label><div class=\"sk-toggleable__content\"><pre>[&#x27;sex&#x27;]</pre></div></div></div><div class=\"sk-serial\"><div class=\"sk-item\"><div class=\"sk-estimator sk-toggleable\"><input class=\"sk-toggleable__control sk-hidden--visually\" id=\"sk-estimator-id-8\" type=\"checkbox\" ><label for=\"sk-estimator-id-8\" class=\"sk-toggleable__label sk-toggleable__label-arrow\">OneHotEncoder</label><div class=\"sk-toggleable__content\"><pre>OneHotEncoder()</pre></div></div></div></div></div></div></div></div><div class=\"sk-item\"><div class=\"sk-estimator sk-toggleable\"><input class=\"sk-toggleable__control sk-hidden--visually\" id=\"sk-estimator-id-9\" type=\"checkbox\" ><label for=\"sk-estimator-id-9\" class=\"sk-toggleable__label sk-toggleable__label-arrow\">LinearRegression</label><div class=\"sk-toggleable__content\"><pre>LinearRegression()</pre></div></div></div></div></div></div></div>"
            ]
          },
          "metadata": {},
          "execution_count": 13
        }
      ]
    },
    {
      "cell_type": "code",
      "source": [
        "y_predicted = fitted_pipeline.predict(X_test)"
      ],
      "metadata": {
        "id": "gf6jKZc8yKJ1"
      },
      "execution_count": 14,
      "outputs": []
    },
    {
      "cell_type": "code",
      "source": [
        "y_predicted"
      ],
      "metadata": {
        "colab": {
          "base_uri": "https://localhost:8080/"
        },
        "id": "6vBaYNiX1Mr-",
        "outputId": "78292454-75a2-48cb-ac13-f8e8bd801bae"
      },
      "execution_count": 15,
      "outputs": [
        {
          "output_type": "execute_result",
          "data": {
            "text/plain": [
              "array([45.625 , 49.375 , 45.625 , 41.125 , 40.9375, 49.375 , 36.6875,\n",
              "       51.    , 47.25  , 45.625 , 49.375 , 40.4375, 47.25  , 37.375 ,\n",
              "       40.4375, 40.4375, 51.    , 45.625 , 45.625 , 49.375 , 37.375 ,\n",
              "       36.6875, 51.    , 41.125 , 36.6875, 45.625 , 49.375 , 47.25  ,\n",
              "       51.    , 49.375 , 41.125 , 45.625 , 41.125 , 49.375 , 49.375 ,\n",
              "       40.4375, 45.625 , 45.625 , 47.25  , 36.6875, 49.375 , 49.375 ,\n",
              "       40.4375, 51.    , 51.    , 49.375 , 36.6875, 40.4375, 40.4375,\n",
              "       51.    , 49.375 , 51.    , 49.375 , 45.625 , 37.1875, 47.25  ,\n",
              "       47.25  , 41.125 , 40.4375, 51.    , 40.4375, 49.375 , 47.25  ,\n",
              "       45.625 , 45.625 , 36.6875, 45.625 , 51.    , 40.9375, 37.1875,\n",
              "       49.375 , 45.625 , 37.375 , 36.6875, 47.25  , 37.375 , 40.4375,\n",
              "       36.6875, 41.125 , 45.625 , 37.375 , 40.4375, 51.    , 45.625 ])"
            ]
          },
          "metadata": {},
          "execution_count": 15
        }
      ]
    },
    {
      "cell_type": "code",
      "source": [],
      "metadata": {
        "id": "VJpuoHwD86OX"
      },
      "execution_count": 15,
      "outputs": []
    },
    {
      "cell_type": "markdown",
      "source": [
        "Let's use `bill_length_mm` to predict `bill_depth_mm`. Prepare your data and fit the following models on the entire dataset:\n",
        "\n",
        "* Simple linear regression (e.g. straight-line) model\n",
        "* Quadratic (degree 2 polynomial) model\n",
        "* Cubic (degree 3 polynomial) model\n",
        "* Degree 10 polynomial model\n",
        "\n",
        "Make predictions for each model and plot your fitted models on the scatterplot."
      ],
      "metadata": {
        "id": "hEwiWESpJLwi"
      }
    },
    {
      "cell_type": "code",
      "source": [
        "# Linear\n",
        "X = penguins[['bill_length_mm']] # put two brackets to make it a DataFrame; # X is a DataFrame\n",
        "y = penguins['bill_depth_mm'] # y is a series\n",
        "\n",
        "X_train, X_test, y_train, y_test = train_test_split(X,y)\n",
        "\n",
        "lr = LinearRegression()\n",
        "\n",
        "# [('scaler, StandardScaler()), ('svc', SVC())]\n",
        "\n",
        "my_pipeline = Pipeline([('ols',lr)] # just labeling it as linear regression; ols stands for...idk\n",
        ")\n",
        "# Fitted quadratic Model\n",
        "fitted_pipeline_l = my_pipeline.fit(X_train, y_train)\n",
        "fitted_pipeline_l\n",
        "\n",
        "# Predict y values on Quadratic model\n",
        "y_predicted_l = fitted_pipeline_l.predict(X_test)\n",
        "y_predicted_l\n",
        "\n"
      ],
      "metadata": {
        "colab": {
          "base_uri": "https://localhost:8080/"
        },
        "id": "F3YDf8A79Atf",
        "outputId": "7009d947-711e-4aa8-a1ab-ef36acfa10fa"
      },
      "execution_count": 22,
      "outputs": [
        {
          "output_type": "execute_result",
          "data": {
            "text/plain": [
              "array([16.72534375, 17.23191141, 17.41395917, 16.67785303, 17.84929076,\n",
              "       17.77013956, 16.7490891 , 17.16067533, 17.61183716, 16.79657982,\n",
              "       16.9073915 , 16.43248431, 17.39812893, 16.96279734, 17.73847908,\n",
              "       16.7490891 , 17.44561965, 16.79657982, 16.96279734, 17.07360902,\n",
              "       16.72534375, 17.48519525, 17.73056396, 17.29523237, 16.95488222,\n",
              "       17.84137564, 17.80180004, 16.81241006, 17.73847908, 16.75700422,\n",
              "       17.87303612, 16.68576815, 16.13170976, 17.83346052, 17.87303612,\n",
              "       17.04194854, 17.25565677, 17.5880918 , 17.87303612, 17.84137564,\n",
              "       17.75430932, 17.04194854, 17.44561965, 17.85720588, 17.12901485,\n",
              "       16.89156126, 16.80449494, 16.73325887, 17.32689285, 16.70159839,\n",
              "       16.84407054, 16.82032518, 17.08943926, 16.93905198, 17.46936501,\n",
              "       16.77283446, 16.7886647 , 17.0656939 , 16.96279734, 17.35063821,\n",
              "       17.34272309, 17.58017668, 17.42187429, 17.89678147, 16.7490891 ,\n",
              "       16.82032518, 17.13692997, 17.667243  , 17.14484509, 17.85720588,\n",
              "       17.80971516, 17.46936501, 17.04194854, 17.81763028, 17.7463942 ,\n",
              "       17.51685572, 17.43770453, 16.61453207, 17.1052695 , 17.69890348,\n",
              "       17.99967803, 17.98384779, 17.15276021, 17.35855333])"
            ]
          },
          "metadata": {},
          "execution_count": 22
        }
      ]
    },
    {
      "cell_type": "code",
      "source": [
        "y_test"
      ],
      "metadata": {
        "id": "GhB1GextDGd0"
      },
      "execution_count": null,
      "outputs": []
    },
    {
      "cell_type": "code",
      "source": [
        "# Quadratic\n",
        "poly = PolynomialFeatures(2)\n",
        "\n",
        "# recipe, machine that generates linear regression, throw in your parts, variables\n",
        "my_pipeline = Pipeline(\n",
        "    [('quadratic', poly), ('ols', lr) ])\n",
        "\n",
        "# Fitted quadratic Model\n",
        "fitted_pipeline_q = my_pipeline.fit(X_train, y_train)\n",
        "fitted_pipeline_q\n",
        "\n",
        "# Predict y values on Quadratic model\n",
        "y_predicted_q = fitted_pipeline_q.predict(X_test)\n",
        "y_predicted_q\n",
        "\n"
      ],
      "metadata": {
        "id": "tjuOvH63LQ2b",
        "colab": {
          "base_uri": "https://localhost:8080/"
        },
        "outputId": "b2a08298-4352-4979-e078-bea74976bc2e"
      },
      "execution_count": 23,
      "outputs": [
        {
          "output_type": "execute_result",
          "data": {
            "text/plain": [
              "array([16.85204624, 16.87369814, 17.1249441 , 16.90111843, 18.24772068,\n",
              "       17.98882728, 16.83079528, 16.81042592, 17.54404341, 16.79486362,\n",
              "       16.74509111, 17.29421538, 17.09798642, 16.73809057, 17.89208352,\n",
              "       16.83079528, 17.18177958, 16.79486362, 16.73809057, 16.75986095,\n",
              "       16.85204624, 17.25829915, 17.86850594, 16.94648745, 16.73836062,\n",
              "       18.22073629, 18.08946452, 16.78483314, 17.89208352, 16.82419831,\n",
              "       18.33013389, 16.89233138, 18.09509901, 18.19399525, 18.33013389,\n",
              "       16.74877398, 16.89916906, 17.48572117, 18.33013389, 18.22073629,\n",
              "       17.93996871, 16.74877398, 17.18177958, 18.2749484 , 16.78863185,\n",
              "       16.74928135, 16.78972671, 16.84471924, 16.98872234, 16.87548729,\n",
              "       16.7676923 , 16.78018292, 16.76686449, 16.73963074, 17.22696129,\n",
              "       16.8117344 , 16.80024387, 16.75672419, 16.73809057, 17.02295361,\n",
              "       17.01129985, 17.46676711, 17.13878796, 18.41473719, 16.83079528,\n",
              "       16.78018292, 16.79371535, 17.68864565, 16.7990422 , 18.2749484 ,\n",
              "       18.11523219, 17.22696129, 16.74877398, 18.1412432 , 17.91590445,\n",
              "       17.32389498, 17.1672057 , 16.98017524, 16.7748414 , 17.77662905,\n",
              "       18.80665917, 18.74368671, 16.80461239, 17.03485072])"
            ]
          },
          "metadata": {},
          "execution_count": 23
        }
      ]
    },
    {
      "cell_type": "code",
      "source": [
        "# cubic\n",
        "\n",
        "poly_c = PolynomialFeatures(3)\n",
        "\n",
        "# recipe, machine that generates linear regression, throw in your parts, variables\n",
        "my_pipeline_c = Pipeline(\n",
        "    [('cubic', poly_c), ('ols', lr) ])\n",
        "\n",
        "# Fitted quadratic Model\n",
        "fitted_pipeline_c = my_pipeline_c.fit(X_train, y_train)\n",
        "fitted_pipeline_c\n",
        "\n",
        "# Predict y values on Quadratic model\n",
        "y_predicted_c = fitted_pipeline_c.predict(X_test)\n",
        "y_predicted_c\n",
        "\n"
      ],
      "metadata": {
        "colab": {
          "base_uri": "https://localhost:8080/"
        },
        "id": "CrOPg4FZ73FZ",
        "outputId": "fee9845c-9457-4881-b60d-198e7dc9ad4f"
      },
      "execution_count": 24,
      "outputs": [
        {
          "output_type": "execute_result",
          "data": {
            "text/plain": [
              "array([16.60943011, 16.9592344 , 17.37782218, 16.69201443, 18.16599611,\n",
              "       18.08724288, 16.5778281 , 16.81573226, 17.82296738, 16.53288651,\n",
              "       16.51382935, 17.59366874, 17.34020271, 16.54387175, 18.04453994,\n",
              "       16.5778281 , 17.45286429, 16.53288651, 16.54387175, 16.66889775,\n",
              "       16.60943011, 17.54561474, 18.03296757, 17.09919002, 16.53813045,\n",
              "       18.16008252, 18.12380984, 16.52307418, 18.04453994, 16.56867447,\n",
              "       18.18090596, 16.67640071, 20.05607183, 18.1537109 , 18.18090596,\n",
              "       16.62527894, 17.01059873, 17.77419001, 18.18090596, 18.16008252,\n",
              "       18.06662528, 16.62527894, 17.45286429, 18.1714434 , 16.75820103,\n",
              "       16.50979313, 16.52766699, 16.59819764, 17.17215255, 16.6474177 ,\n",
              "       16.51080437, 16.51909979, 16.69281132, 16.52806424, 17.50871281,\n",
              "       16.55238809, 16.53874101, 16.65745459, 16.54387175, 17.22774555,\n",
              "       17.20914815, 17.75753375, 17.39661973, 18.19139552, 16.5778281 ,\n",
              "       16.51909979, 16.77217372, 17.92876865, 16.78642534, 18.1714434 ,\n",
              "       18.13193074, 17.50871281, 16.62527894, 18.13962673, 18.05576194,\n",
              "       17.61832748, 17.43414906, 16.84495063, 16.71803933, 17.98333991,\n",
              "       18.18031751, 18.18842631, 16.80094762, 17.24639831])"
            ]
          },
          "metadata": {},
          "execution_count": 24
        }
      ]
    },
    {
      "cell_type": "code",
      "source": [
        "# Degree 10\n",
        "\n",
        "poly_d = PolynomialFeatures(10)\n",
        "\n",
        "# recipe, machine that generates linear regression, throw in your parts, variables\n",
        "my_pipeline_d = Pipeline(\n",
        "    [('quadratic', poly_d), ('ols', lr) ])\n",
        "\n",
        "# Fitted quadratic Model\n",
        "fitted_pipeline_d = my_pipeline_d.fit(X_train, y_train)\n",
        "fitted_pipeline_d\n",
        "\n",
        "# Predict y values on Quadratic model\n",
        "y_predicted_d = fitted_pipeline_d.predict(X_test)\n",
        "y_predicted_d\n",
        "\n"
      ],
      "metadata": {
        "colab": {
          "base_uri": "https://localhost:8080/"
        },
        "id": "RJGYk2yB8YMp",
        "outputId": "8018e1f3-5df2-4878-daf2-cbb530d8c199"
      },
      "execution_count": 25,
      "outputs": [
        {
          "output_type": "execute_result",
          "data": {
            "text/plain": [
              "array([17.23804311, 16.47624378, 17.63121329, 17.62189947, 18.05685906,\n",
              "       18.33635849, 17.04553563, 16.10418256, 18.43482218, 16.67736523,\n",
              "       16.01697962, 18.38381969, 17.5348585 , 15.837507  , 18.41007096,\n",
              "       17.04553563, 17.81404904, 16.67736523, 15.837507  , 15.82264837,\n",
              "       17.23804311, 18.01915037, 18.4245674 , 16.87038122, 15.85617908,\n",
              "       18.08993304, 18.23934248, 16.56305929, 18.41007096, 16.98220084,\n",
              "       17.95239605, 17.55900104, 14.81660423, 18.1220239 , 17.95239605,\n",
              "       15.78085749, 16.6192962 , 18.38891078, 17.95239605, 18.08993304,\n",
              "       18.37629028, 15.78085749, 17.81404904, 18.02286662, 15.97603618,\n",
              "       16.08850199, 16.61956218, 17.17358862, 17.07712002, 17.43146034,\n",
              "       16.35190984, 16.50795297, 15.85648214, 15.90057346, 17.94062707,\n",
              "       16.85754498, 16.7363676 , 15.80890965, 15.837507  , 17.23239419,\n",
              "       17.18076559, 18.37012176, 17.67825096, 17.84154353, 17.04553563,\n",
              "       16.50795297, 16.00553517, 18.4795988 , 16.03676628, 18.02286662,\n",
              "       18.21178514, 17.94062707, 15.78085749, 18.18300891, 18.3939676 ,\n",
              "       18.16033583, 17.76972992, 18.08320523, 15.89850269, 18.46591598,\n",
              "       17.34003053, 17.41492482, 16.0696694 , 17.28379478])"
            ]
          },
          "metadata": {},
          "execution_count": 25
        }
      ]
    },
    {
      "cell_type": "code",
      "source": [],
      "metadata": {
        "id": "VmO9ozjbCuPs"
      },
      "execution_count": null,
      "outputs": []
    },
    {
      "cell_type": "code",
      "source": [
        "X_test"
      ],
      "metadata": {
        "colab": {
          "base_uri": "https://localhost:8080/",
          "height": 424
        },
        "id": "9M-8xfAGCSt4",
        "outputId": "688d301c-7b0d-416c-a75b-f7bb84662d3a"
      },
      "execution_count": 37,
      "outputs": [
        {
          "output_type": "execute_result",
          "data": {
            "text/plain": [
              "     bill_length_mm\n",
              "196            50.5\n",
              "129            44.1\n",
              "69             41.8\n",
              "229            51.1\n",
              "86             36.3\n",
              "..              ...\n",
              "107            38.2\n",
              "18             34.4\n",
              "80             34.6\n",
              "173            45.1\n",
              "17             42.5\n",
              "\n",
              "[84 rows x 1 columns]"
            ],
            "text/html": [
              "\n",
              "  <div id=\"df-22d7c09b-2c21-4c7f-a8da-dc7589823cff\" class=\"colab-df-container\">\n",
              "    <div>\n",
              "<style scoped>\n",
              "    .dataframe tbody tr th:only-of-type {\n",
              "        vertical-align: middle;\n",
              "    }\n",
              "\n",
              "    .dataframe tbody tr th {\n",
              "        vertical-align: top;\n",
              "    }\n",
              "\n",
              "    .dataframe thead th {\n",
              "        text-align: right;\n",
              "    }\n",
              "</style>\n",
              "<table border=\"1\" class=\"dataframe\">\n",
              "  <thead>\n",
              "    <tr style=\"text-align: right;\">\n",
              "      <th></th>\n",
              "      <th>bill_length_mm</th>\n",
              "    </tr>\n",
              "  </thead>\n",
              "  <tbody>\n",
              "    <tr>\n",
              "      <th>196</th>\n",
              "      <td>50.5</td>\n",
              "    </tr>\n",
              "    <tr>\n",
              "      <th>129</th>\n",
              "      <td>44.1</td>\n",
              "    </tr>\n",
              "    <tr>\n",
              "      <th>69</th>\n",
              "      <td>41.8</td>\n",
              "    </tr>\n",
              "    <tr>\n",
              "      <th>229</th>\n",
              "      <td>51.1</td>\n",
              "    </tr>\n",
              "    <tr>\n",
              "      <th>86</th>\n",
              "      <td>36.3</td>\n",
              "    </tr>\n",
              "    <tr>\n",
              "      <th>...</th>\n",
              "      <td>...</td>\n",
              "    </tr>\n",
              "    <tr>\n",
              "      <th>107</th>\n",
              "      <td>38.2</td>\n",
              "    </tr>\n",
              "    <tr>\n",
              "      <th>18</th>\n",
              "      <td>34.4</td>\n",
              "    </tr>\n",
              "    <tr>\n",
              "      <th>80</th>\n",
              "      <td>34.6</td>\n",
              "    </tr>\n",
              "    <tr>\n",
              "      <th>173</th>\n",
              "      <td>45.1</td>\n",
              "    </tr>\n",
              "    <tr>\n",
              "      <th>17</th>\n",
              "      <td>42.5</td>\n",
              "    </tr>\n",
              "  </tbody>\n",
              "</table>\n",
              "<p>84 rows × 1 columns</p>\n",
              "</div>\n",
              "    <div class=\"colab-df-buttons\">\n",
              "\n",
              "  <div class=\"colab-df-container\">\n",
              "    <button class=\"colab-df-convert\" onclick=\"convertToInteractive('df-22d7c09b-2c21-4c7f-a8da-dc7589823cff')\"\n",
              "            title=\"Convert this dataframe to an interactive table.\"\n",
              "            style=\"display:none;\">\n",
              "\n",
              "  <svg xmlns=\"http://www.w3.org/2000/svg\" height=\"24px\" viewBox=\"0 -960 960 960\">\n",
              "    <path d=\"M120-120v-720h720v720H120Zm60-500h600v-160H180v160Zm220 220h160v-160H400v160Zm0 220h160v-160H400v160ZM180-400h160v-160H180v160Zm440 0h160v-160H620v160ZM180-180h160v-160H180v160Zm440 0h160v-160H620v160Z\"/>\n",
              "  </svg>\n",
              "    </button>\n",
              "\n",
              "  <style>\n",
              "    .colab-df-container {\n",
              "      display:flex;\n",
              "      gap: 12px;\n",
              "    }\n",
              "\n",
              "    .colab-df-convert {\n",
              "      background-color: #E8F0FE;\n",
              "      border: none;\n",
              "      border-radius: 50%;\n",
              "      cursor: pointer;\n",
              "      display: none;\n",
              "      fill: #1967D2;\n",
              "      height: 32px;\n",
              "      padding: 0 0 0 0;\n",
              "      width: 32px;\n",
              "    }\n",
              "\n",
              "    .colab-df-convert:hover {\n",
              "      background-color: #E2EBFA;\n",
              "      box-shadow: 0px 1px 2px rgba(60, 64, 67, 0.3), 0px 1px 3px 1px rgba(60, 64, 67, 0.15);\n",
              "      fill: #174EA6;\n",
              "    }\n",
              "\n",
              "    .colab-df-buttons div {\n",
              "      margin-bottom: 4px;\n",
              "    }\n",
              "\n",
              "    [theme=dark] .colab-df-convert {\n",
              "      background-color: #3B4455;\n",
              "      fill: #D2E3FC;\n",
              "    }\n",
              "\n",
              "    [theme=dark] .colab-df-convert:hover {\n",
              "      background-color: #434B5C;\n",
              "      box-shadow: 0px 1px 3px 1px rgba(0, 0, 0, 0.15);\n",
              "      filter: drop-shadow(0px 1px 2px rgba(0, 0, 0, 0.3));\n",
              "      fill: #FFFFFF;\n",
              "    }\n",
              "  </style>\n",
              "\n",
              "    <script>\n",
              "      const buttonEl =\n",
              "        document.querySelector('#df-22d7c09b-2c21-4c7f-a8da-dc7589823cff button.colab-df-convert');\n",
              "      buttonEl.style.display =\n",
              "        google.colab.kernel.accessAllowed ? 'block' : 'none';\n",
              "\n",
              "      async function convertToInteractive(key) {\n",
              "        const element = document.querySelector('#df-22d7c09b-2c21-4c7f-a8da-dc7589823cff');\n",
              "        const dataTable =\n",
              "          await google.colab.kernel.invokeFunction('convertToInteractive',\n",
              "                                                    [key], {});\n",
              "        if (!dataTable) return;\n",
              "\n",
              "        const docLinkHtml = 'Like what you see? Visit the ' +\n",
              "          '<a target=\"_blank\" href=https://colab.research.google.com/notebooks/data_table.ipynb>data table notebook</a>'\n",
              "          + ' to learn more about interactive tables.';\n",
              "        element.innerHTML = '';\n",
              "        dataTable['output_type'] = 'display_data';\n",
              "        await google.colab.output.renderOutput(dataTable, element);\n",
              "        const docLink = document.createElement('div');\n",
              "        docLink.innerHTML = docLinkHtml;\n",
              "        element.appendChild(docLink);\n",
              "      }\n",
              "    </script>\n",
              "  </div>\n",
              "\n",
              "\n",
              "<div id=\"df-07d4dec3-42a4-4fc3-a933-0a626718c496\">\n",
              "  <button class=\"colab-df-quickchart\" onclick=\"quickchart('df-07d4dec3-42a4-4fc3-a933-0a626718c496')\"\n",
              "            title=\"Suggest charts.\"\n",
              "            style=\"display:none;\">\n",
              "\n",
              "<svg xmlns=\"http://www.w3.org/2000/svg\" height=\"24px\"viewBox=\"0 0 24 24\"\n",
              "     width=\"24px\">\n",
              "    <g>\n",
              "        <path d=\"M19 3H5c-1.1 0-2 .9-2 2v14c0 1.1.9 2 2 2h14c1.1 0 2-.9 2-2V5c0-1.1-.9-2-2-2zM9 17H7v-7h2v7zm4 0h-2V7h2v10zm4 0h-2v-4h2v4z\"/>\n",
              "    </g>\n",
              "</svg>\n",
              "  </button>\n",
              "\n",
              "<style>\n",
              "  .colab-df-quickchart {\n",
              "      --bg-color: #E8F0FE;\n",
              "      --fill-color: #1967D2;\n",
              "      --hover-bg-color: #E2EBFA;\n",
              "      --hover-fill-color: #174EA6;\n",
              "      --disabled-fill-color: #AAA;\n",
              "      --disabled-bg-color: #DDD;\n",
              "  }\n",
              "\n",
              "  [theme=dark] .colab-df-quickchart {\n",
              "      --bg-color: #3B4455;\n",
              "      --fill-color: #D2E3FC;\n",
              "      --hover-bg-color: #434B5C;\n",
              "      --hover-fill-color: #FFFFFF;\n",
              "      --disabled-bg-color: #3B4455;\n",
              "      --disabled-fill-color: #666;\n",
              "  }\n",
              "\n",
              "  .colab-df-quickchart {\n",
              "    background-color: var(--bg-color);\n",
              "    border: none;\n",
              "    border-radius: 50%;\n",
              "    cursor: pointer;\n",
              "    display: none;\n",
              "    fill: var(--fill-color);\n",
              "    height: 32px;\n",
              "    padding: 0;\n",
              "    width: 32px;\n",
              "  }\n",
              "\n",
              "  .colab-df-quickchart:hover {\n",
              "    background-color: var(--hover-bg-color);\n",
              "    box-shadow: 0 1px 2px rgba(60, 64, 67, 0.3), 0 1px 3px 1px rgba(60, 64, 67, 0.15);\n",
              "    fill: var(--button-hover-fill-color);\n",
              "  }\n",
              "\n",
              "  .colab-df-quickchart-complete:disabled,\n",
              "  .colab-df-quickchart-complete:disabled:hover {\n",
              "    background-color: var(--disabled-bg-color);\n",
              "    fill: var(--disabled-fill-color);\n",
              "    box-shadow: none;\n",
              "  }\n",
              "\n",
              "  .colab-df-spinner {\n",
              "    border: 2px solid var(--fill-color);\n",
              "    border-color: transparent;\n",
              "    border-bottom-color: var(--fill-color);\n",
              "    animation:\n",
              "      spin 1s steps(1) infinite;\n",
              "  }\n",
              "\n",
              "  @keyframes spin {\n",
              "    0% {\n",
              "      border-color: transparent;\n",
              "      border-bottom-color: var(--fill-color);\n",
              "      border-left-color: var(--fill-color);\n",
              "    }\n",
              "    20% {\n",
              "      border-color: transparent;\n",
              "      border-left-color: var(--fill-color);\n",
              "      border-top-color: var(--fill-color);\n",
              "    }\n",
              "    30% {\n",
              "      border-color: transparent;\n",
              "      border-left-color: var(--fill-color);\n",
              "      border-top-color: var(--fill-color);\n",
              "      border-right-color: var(--fill-color);\n",
              "    }\n",
              "    40% {\n",
              "      border-color: transparent;\n",
              "      border-right-color: var(--fill-color);\n",
              "      border-top-color: var(--fill-color);\n",
              "    }\n",
              "    60% {\n",
              "      border-color: transparent;\n",
              "      border-right-color: var(--fill-color);\n",
              "    }\n",
              "    80% {\n",
              "      border-color: transparent;\n",
              "      border-right-color: var(--fill-color);\n",
              "      border-bottom-color: var(--fill-color);\n",
              "    }\n",
              "    90% {\n",
              "      border-color: transparent;\n",
              "      border-bottom-color: var(--fill-color);\n",
              "    }\n",
              "  }\n",
              "</style>\n",
              "\n",
              "  <script>\n",
              "    async function quickchart(key) {\n",
              "      const quickchartButtonEl =\n",
              "        document.querySelector('#' + key + ' button');\n",
              "      quickchartButtonEl.disabled = true;  // To prevent multiple clicks.\n",
              "      quickchartButtonEl.classList.add('colab-df-spinner');\n",
              "      try {\n",
              "        const charts = await google.colab.kernel.invokeFunction(\n",
              "            'suggestCharts', [key], {});\n",
              "      } catch (error) {\n",
              "        console.error('Error during call to suggestCharts:', error);\n",
              "      }\n",
              "      quickchartButtonEl.classList.remove('colab-df-spinner');\n",
              "      quickchartButtonEl.classList.add('colab-df-quickchart-complete');\n",
              "    }\n",
              "    (() => {\n",
              "      let quickchartButtonEl =\n",
              "        document.querySelector('#df-07d4dec3-42a4-4fc3-a933-0a626718c496 button');\n",
              "      quickchartButtonEl.style.display =\n",
              "        google.colab.kernel.accessAllowed ? 'block' : 'none';\n",
              "    })();\n",
              "  </script>\n",
              "</div>\n",
              "    </div>\n",
              "  </div>\n"
            ]
          },
          "metadata": {},
          "execution_count": 37
        }
      ]
    },
    {
      "cell_type": "code",
      "source": [
        "# Combine Arrays and make into a dataframe\n",
        "#dataset = pd.DataFrame({'label': label, 'images': list(images)}, columns=['label', 'images'])\n",
        "models = pd.DataFrame({'degree_10':y_predicted_d,'cubic':y_predicted_c,'quadratic':y_predicted_q,'linear':y_predicted_l,'y':y_test,'bill_length_mm':X_test['bill_length_mm']}, columns=['degree_10','cubic','quadratic','linear','y','bill_length_mm'])\n",
        "models"
      ],
      "metadata": {
        "colab": {
          "base_uri": "https://localhost:8080/",
          "height": 424
        },
        "id": "k33qu8CqC1Km",
        "outputId": "4aedd451-f6da-4f03-cbea-09416e3bd6a6"
      },
      "execution_count": 56,
      "outputs": [
        {
          "output_type": "execute_result",
          "data": {
            "text/plain": [
              "     degree_10      cubic  quadratic     linear     y  bill_length_mm\n",
              "196  17.238043  16.609430  16.852046  16.725344  15.9            50.5\n",
              "129  16.476244  16.959234  16.873698  17.231911  18.0            44.1\n",
              "69   17.631213  17.377822  17.124944  17.413959  19.4            41.8\n",
              "229  17.621899  16.692014  16.901118  16.677853  16.3            51.1\n",
              "86   18.056859  18.165996  18.247721  17.849291  19.5            36.3\n",
              "..         ...        ...        ...        ...   ...             ...\n",
              "107  18.465916  17.983340  17.776629  17.698903  20.0            38.2\n",
              "18   17.340031  18.180318  18.806659  17.999678  18.4            34.4\n",
              "80   17.414925  18.188426  18.743687  17.983848  17.2            34.6\n",
              "173  16.069669  16.800948  16.804612  17.152760  14.5            45.1\n",
              "17   17.283795  17.246398  17.034851  17.358553  20.7            42.5\n",
              "\n",
              "[84 rows x 6 columns]"
            ],
            "text/html": [
              "\n",
              "  <div id=\"df-26f5c617-64af-47b0-ad62-8a3911502636\" class=\"colab-df-container\">\n",
              "    <div>\n",
              "<style scoped>\n",
              "    .dataframe tbody tr th:only-of-type {\n",
              "        vertical-align: middle;\n",
              "    }\n",
              "\n",
              "    .dataframe tbody tr th {\n",
              "        vertical-align: top;\n",
              "    }\n",
              "\n",
              "    .dataframe thead th {\n",
              "        text-align: right;\n",
              "    }\n",
              "</style>\n",
              "<table border=\"1\" class=\"dataframe\">\n",
              "  <thead>\n",
              "    <tr style=\"text-align: right;\">\n",
              "      <th></th>\n",
              "      <th>degree_10</th>\n",
              "      <th>cubic</th>\n",
              "      <th>quadratic</th>\n",
              "      <th>linear</th>\n",
              "      <th>y</th>\n",
              "      <th>bill_length_mm</th>\n",
              "    </tr>\n",
              "  </thead>\n",
              "  <tbody>\n",
              "    <tr>\n",
              "      <th>196</th>\n",
              "      <td>17.238043</td>\n",
              "      <td>16.609430</td>\n",
              "      <td>16.852046</td>\n",
              "      <td>16.725344</td>\n",
              "      <td>15.9</td>\n",
              "      <td>50.5</td>\n",
              "    </tr>\n",
              "    <tr>\n",
              "      <th>129</th>\n",
              "      <td>16.476244</td>\n",
              "      <td>16.959234</td>\n",
              "      <td>16.873698</td>\n",
              "      <td>17.231911</td>\n",
              "      <td>18.0</td>\n",
              "      <td>44.1</td>\n",
              "    </tr>\n",
              "    <tr>\n",
              "      <th>69</th>\n",
              "      <td>17.631213</td>\n",
              "      <td>17.377822</td>\n",
              "      <td>17.124944</td>\n",
              "      <td>17.413959</td>\n",
              "      <td>19.4</td>\n",
              "      <td>41.8</td>\n",
              "    </tr>\n",
              "    <tr>\n",
              "      <th>229</th>\n",
              "      <td>17.621899</td>\n",
              "      <td>16.692014</td>\n",
              "      <td>16.901118</td>\n",
              "      <td>16.677853</td>\n",
              "      <td>16.3</td>\n",
              "      <td>51.1</td>\n",
              "    </tr>\n",
              "    <tr>\n",
              "      <th>86</th>\n",
              "      <td>18.056859</td>\n",
              "      <td>18.165996</td>\n",
              "      <td>18.247721</td>\n",
              "      <td>17.849291</td>\n",
              "      <td>19.5</td>\n",
              "      <td>36.3</td>\n",
              "    </tr>\n",
              "    <tr>\n",
              "      <th>...</th>\n",
              "      <td>...</td>\n",
              "      <td>...</td>\n",
              "      <td>...</td>\n",
              "      <td>...</td>\n",
              "      <td>...</td>\n",
              "      <td>...</td>\n",
              "    </tr>\n",
              "    <tr>\n",
              "      <th>107</th>\n",
              "      <td>18.465916</td>\n",
              "      <td>17.983340</td>\n",
              "      <td>17.776629</td>\n",
              "      <td>17.698903</td>\n",
              "      <td>20.0</td>\n",
              "      <td>38.2</td>\n",
              "    </tr>\n",
              "    <tr>\n",
              "      <th>18</th>\n",
              "      <td>17.340031</td>\n",
              "      <td>18.180318</td>\n",
              "      <td>18.806659</td>\n",
              "      <td>17.999678</td>\n",
              "      <td>18.4</td>\n",
              "      <td>34.4</td>\n",
              "    </tr>\n",
              "    <tr>\n",
              "      <th>80</th>\n",
              "      <td>17.414925</td>\n",
              "      <td>18.188426</td>\n",
              "      <td>18.743687</td>\n",
              "      <td>17.983848</td>\n",
              "      <td>17.2</td>\n",
              "      <td>34.6</td>\n",
              "    </tr>\n",
              "    <tr>\n",
              "      <th>173</th>\n",
              "      <td>16.069669</td>\n",
              "      <td>16.800948</td>\n",
              "      <td>16.804612</td>\n",
              "      <td>17.152760</td>\n",
              "      <td>14.5</td>\n",
              "      <td>45.1</td>\n",
              "    </tr>\n",
              "    <tr>\n",
              "      <th>17</th>\n",
              "      <td>17.283795</td>\n",
              "      <td>17.246398</td>\n",
              "      <td>17.034851</td>\n",
              "      <td>17.358553</td>\n",
              "      <td>20.7</td>\n",
              "      <td>42.5</td>\n",
              "    </tr>\n",
              "  </tbody>\n",
              "</table>\n",
              "<p>84 rows × 6 columns</p>\n",
              "</div>\n",
              "    <div class=\"colab-df-buttons\">\n",
              "\n",
              "  <div class=\"colab-df-container\">\n",
              "    <button class=\"colab-df-convert\" onclick=\"convertToInteractive('df-26f5c617-64af-47b0-ad62-8a3911502636')\"\n",
              "            title=\"Convert this dataframe to an interactive table.\"\n",
              "            style=\"display:none;\">\n",
              "\n",
              "  <svg xmlns=\"http://www.w3.org/2000/svg\" height=\"24px\" viewBox=\"0 -960 960 960\">\n",
              "    <path d=\"M120-120v-720h720v720H120Zm60-500h600v-160H180v160Zm220 220h160v-160H400v160Zm0 220h160v-160H400v160ZM180-400h160v-160H180v160Zm440 0h160v-160H620v160ZM180-180h160v-160H180v160Zm440 0h160v-160H620v160Z\"/>\n",
              "  </svg>\n",
              "    </button>\n",
              "\n",
              "  <style>\n",
              "    .colab-df-container {\n",
              "      display:flex;\n",
              "      gap: 12px;\n",
              "    }\n",
              "\n",
              "    .colab-df-convert {\n",
              "      background-color: #E8F0FE;\n",
              "      border: none;\n",
              "      border-radius: 50%;\n",
              "      cursor: pointer;\n",
              "      display: none;\n",
              "      fill: #1967D2;\n",
              "      height: 32px;\n",
              "      padding: 0 0 0 0;\n",
              "      width: 32px;\n",
              "    }\n",
              "\n",
              "    .colab-df-convert:hover {\n",
              "      background-color: #E2EBFA;\n",
              "      box-shadow: 0px 1px 2px rgba(60, 64, 67, 0.3), 0px 1px 3px 1px rgba(60, 64, 67, 0.15);\n",
              "      fill: #174EA6;\n",
              "    }\n",
              "\n",
              "    .colab-df-buttons div {\n",
              "      margin-bottom: 4px;\n",
              "    }\n",
              "\n",
              "    [theme=dark] .colab-df-convert {\n",
              "      background-color: #3B4455;\n",
              "      fill: #D2E3FC;\n",
              "    }\n",
              "\n",
              "    [theme=dark] .colab-df-convert:hover {\n",
              "      background-color: #434B5C;\n",
              "      box-shadow: 0px 1px 3px 1px rgba(0, 0, 0, 0.15);\n",
              "      filter: drop-shadow(0px 1px 2px rgba(0, 0, 0, 0.3));\n",
              "      fill: #FFFFFF;\n",
              "    }\n",
              "  </style>\n",
              "\n",
              "    <script>\n",
              "      const buttonEl =\n",
              "        document.querySelector('#df-26f5c617-64af-47b0-ad62-8a3911502636 button.colab-df-convert');\n",
              "      buttonEl.style.display =\n",
              "        google.colab.kernel.accessAllowed ? 'block' : 'none';\n",
              "\n",
              "      async function convertToInteractive(key) {\n",
              "        const element = document.querySelector('#df-26f5c617-64af-47b0-ad62-8a3911502636');\n",
              "        const dataTable =\n",
              "          await google.colab.kernel.invokeFunction('convertToInteractive',\n",
              "                                                    [key], {});\n",
              "        if (!dataTable) return;\n",
              "\n",
              "        const docLinkHtml = 'Like what you see? Visit the ' +\n",
              "          '<a target=\"_blank\" href=https://colab.research.google.com/notebooks/data_table.ipynb>data table notebook</a>'\n",
              "          + ' to learn more about interactive tables.';\n",
              "        element.innerHTML = '';\n",
              "        dataTable['output_type'] = 'display_data';\n",
              "        await google.colab.output.renderOutput(dataTable, element);\n",
              "        const docLink = document.createElement('div');\n",
              "        docLink.innerHTML = docLinkHtml;\n",
              "        element.appendChild(docLink);\n",
              "      }\n",
              "    </script>\n",
              "  </div>\n",
              "\n",
              "\n",
              "<div id=\"df-5b8ec505-b0f7-4179-a995-ff5947cb6348\">\n",
              "  <button class=\"colab-df-quickchart\" onclick=\"quickchart('df-5b8ec505-b0f7-4179-a995-ff5947cb6348')\"\n",
              "            title=\"Suggest charts.\"\n",
              "            style=\"display:none;\">\n",
              "\n",
              "<svg xmlns=\"http://www.w3.org/2000/svg\" height=\"24px\"viewBox=\"0 0 24 24\"\n",
              "     width=\"24px\">\n",
              "    <g>\n",
              "        <path d=\"M19 3H5c-1.1 0-2 .9-2 2v14c0 1.1.9 2 2 2h14c1.1 0 2-.9 2-2V5c0-1.1-.9-2-2-2zM9 17H7v-7h2v7zm4 0h-2V7h2v10zm4 0h-2v-4h2v4z\"/>\n",
              "    </g>\n",
              "</svg>\n",
              "  </button>\n",
              "\n",
              "<style>\n",
              "  .colab-df-quickchart {\n",
              "      --bg-color: #E8F0FE;\n",
              "      --fill-color: #1967D2;\n",
              "      --hover-bg-color: #E2EBFA;\n",
              "      --hover-fill-color: #174EA6;\n",
              "      --disabled-fill-color: #AAA;\n",
              "      --disabled-bg-color: #DDD;\n",
              "  }\n",
              "\n",
              "  [theme=dark] .colab-df-quickchart {\n",
              "      --bg-color: #3B4455;\n",
              "      --fill-color: #D2E3FC;\n",
              "      --hover-bg-color: #434B5C;\n",
              "      --hover-fill-color: #FFFFFF;\n",
              "      --disabled-bg-color: #3B4455;\n",
              "      --disabled-fill-color: #666;\n",
              "  }\n",
              "\n",
              "  .colab-df-quickchart {\n",
              "    background-color: var(--bg-color);\n",
              "    border: none;\n",
              "    border-radius: 50%;\n",
              "    cursor: pointer;\n",
              "    display: none;\n",
              "    fill: var(--fill-color);\n",
              "    height: 32px;\n",
              "    padding: 0;\n",
              "    width: 32px;\n",
              "  }\n",
              "\n",
              "  .colab-df-quickchart:hover {\n",
              "    background-color: var(--hover-bg-color);\n",
              "    box-shadow: 0 1px 2px rgba(60, 64, 67, 0.3), 0 1px 3px 1px rgba(60, 64, 67, 0.15);\n",
              "    fill: var(--button-hover-fill-color);\n",
              "  }\n",
              "\n",
              "  .colab-df-quickchart-complete:disabled,\n",
              "  .colab-df-quickchart-complete:disabled:hover {\n",
              "    background-color: var(--disabled-bg-color);\n",
              "    fill: var(--disabled-fill-color);\n",
              "    box-shadow: none;\n",
              "  }\n",
              "\n",
              "  .colab-df-spinner {\n",
              "    border: 2px solid var(--fill-color);\n",
              "    border-color: transparent;\n",
              "    border-bottom-color: var(--fill-color);\n",
              "    animation:\n",
              "      spin 1s steps(1) infinite;\n",
              "  }\n",
              "\n",
              "  @keyframes spin {\n",
              "    0% {\n",
              "      border-color: transparent;\n",
              "      border-bottom-color: var(--fill-color);\n",
              "      border-left-color: var(--fill-color);\n",
              "    }\n",
              "    20% {\n",
              "      border-color: transparent;\n",
              "      border-left-color: var(--fill-color);\n",
              "      border-top-color: var(--fill-color);\n",
              "    }\n",
              "    30% {\n",
              "      border-color: transparent;\n",
              "      border-left-color: var(--fill-color);\n",
              "      border-top-color: var(--fill-color);\n",
              "      border-right-color: var(--fill-color);\n",
              "    }\n",
              "    40% {\n",
              "      border-color: transparent;\n",
              "      border-right-color: var(--fill-color);\n",
              "      border-top-color: var(--fill-color);\n",
              "    }\n",
              "    60% {\n",
              "      border-color: transparent;\n",
              "      border-right-color: var(--fill-color);\n",
              "    }\n",
              "    80% {\n",
              "      border-color: transparent;\n",
              "      border-right-color: var(--fill-color);\n",
              "      border-bottom-color: var(--fill-color);\n",
              "    }\n",
              "    90% {\n",
              "      border-color: transparent;\n",
              "      border-bottom-color: var(--fill-color);\n",
              "    }\n",
              "  }\n",
              "</style>\n",
              "\n",
              "  <script>\n",
              "    async function quickchart(key) {\n",
              "      const quickchartButtonEl =\n",
              "        document.querySelector('#' + key + ' button');\n",
              "      quickchartButtonEl.disabled = true;  // To prevent multiple clicks.\n",
              "      quickchartButtonEl.classList.add('colab-df-spinner');\n",
              "      try {\n",
              "        const charts = await google.colab.kernel.invokeFunction(\n",
              "            'suggestCharts', [key], {});\n",
              "      } catch (error) {\n",
              "        console.error('Error during call to suggestCharts:', error);\n",
              "      }\n",
              "      quickchartButtonEl.classList.remove('colab-df-spinner');\n",
              "      quickchartButtonEl.classList.add('colab-df-quickchart-complete');\n",
              "    }\n",
              "    (() => {\n",
              "      let quickchartButtonEl =\n",
              "        document.querySelector('#df-5b8ec505-b0f7-4179-a995-ff5947cb6348 button');\n",
              "      quickchartButtonEl.style.display =\n",
              "        google.colab.kernel.accessAllowed ? 'block' : 'none';\n",
              "    })();\n",
              "  </script>\n",
              "</div>\n",
              "    </div>\n",
              "  </div>\n"
            ]
          },
          "metadata": {},
          "execution_count": 56
        }
      ]
    },
    {
      "cell_type": "code",
      "source": [
        "# Melt Data Frame to long form\n",
        "#long_population = population.melt(id_vars=[\"country\"], var_name=\"year\", value_name=\"predictions\")\n",
        "#models = models.melt( var_name='model', value_name='predictions')\n",
        "#models"
      ],
      "metadata": {
        "id": "LhaqfHjm-1WK"
      },
      "execution_count": null,
      "outputs": []
    },
    {
      "cell_type": "code",
      "source": [
        "# Plot and compare models\n",
        "(ggplot(models, aes(x = 'bill_length_mm', y = 'y_test'))\n",
        "+ geom_point(aes(y = 'linear'), color = 'red')\n",
        "+ geom_point(aes( y = 'quadratic'),color = 'blue')\n",
        "+ geom_point(aes( y ='cubic'), color = 'green')\n",
        "+ geom_point(aes( y ='degree_10'), color = 'yellow')\n",
        "+ geom_point(aes(y = 'y_test'), color = 'black'))"
      ],
      "metadata": {
        "colab": {
          "base_uri": "https://localhost:8080/",
          "height": 515
        },
        "id": "k6smeM0oBLDc",
        "outputId": "ea269fda-7828-4455-b6f5-2d9d0f6fee74"
      },
      "execution_count": 59,
      "outputs": [
        {
          "output_type": "display_data",
          "data": {
            "text/plain": [
              "<Figure size 640x480 with 1 Axes>"
            ],
            "image/png": "[encoded data removed]"
          },
          "metadata": {
            "image/png": {
              "width": 640,
              "height": 480
            }
          }
        },
        {
          "output_type": "execute_result",
          "data": {
            "text/plain": [
              "<Figure Size: (640 x 480)>"
            ]
          },
          "metadata": {},
          "execution_count": 59
        }
      ]
    },
    {
      "cell_type": "markdown",
      "source": [
        "* Are any of the models above underfitting the data? If so, which ones and how can you tell?\n",
        "  - I think linear is underfitting\n",
        "* Are any of thhe models above overfitting the data? If so, which ones and how can you tell?\n",
        "  - I don't think any of the models are above overfitting because none of the lines perfectly follow the relationship of the actual y value points\n",
        "* Which of the above models do you think fits the data best and why?\n",
        "  - I think the degree 10 models fit the data best because it follows the relationship of the points the best"
      ],
      "metadata": {
        "id": "Ph3lo8ExLSTG"
      }
    }
  ]
}
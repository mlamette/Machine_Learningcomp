{
  "cells": [
    {
      "cell_type": "raw",
      "metadata": {
        "id": "Wm7rfPnRrrqm"
      },
      "source": [
        "---\n",
        "title: 'Practice Activity: Basic Syntax'\n",
        "output: html\n",
        "---"
      ]
    },
    {
      "cell_type": "markdown",
      "metadata": {
        "id": "0mbR_4URrrqo"
      },
      "source": [
        "## Overview\n",
        "\n",
        "In this PA, you will will be creating and manipulating basic objects to uncover a top secret message.\n",
        "\n",
        "### Hint 1\n",
        "\n",
        "As you work through this PA, you will encounter some code that does not work as you want it to.  Don't despair!  Errors (when R is unable to run your code) and bugs (when the code doesn't do what you hoped) are a natural part of coding.  Even the best of the best deal with these problems regularly - learning to track down the issue is a skill that you can learn and practice.\n",
        "\n",
        "Google is your friend!  If an error is confusing, copy it into Google and see what other people are saying.  If you don't know how to do something, search for it.\n",
        "\n",
        "### Hint 2\n",
        "\n",
        "Just because there is no error message doesn't mean everything went smoothly.  You should be regularly printing out your objects, to see they contain the information and format that you expect.\n",
        "\n",
        "For example, if you have an object named `my_thing`, you might first want to simply look at the object by typing its name.\n",
        "\n",
        "However, you might also want to make sure it is the right **object type** and/or the right **object structure**.\n"
      ]
    },
    {
      "cell_type": "code",
      "metadata": {
        "id": "D5pSzgxjrrqq"
      },
      "source": [
        "#type(my_thing)\n",
        "#len(my_thing)"
      ],
      "execution_count": 293,
      "outputs": []
    },
    {
      "cell_type": "code",
      "source": [
        "import numpy as np\n",
        "import pandas as pd"
      ],
      "metadata": {
        "id": "qtIU6hG26yUM"
      },
      "execution_count": 294,
      "outputs": []
    },
    {
      "cell_type": "markdown",
      "metadata": {
        "id": "QpUJsmq0rrqr"
      },
      "source": [
        "## Part One: Setup\n",
        "\n",
        "Each of the following code chunks will cause an error and/or do the desired task incorrectly.  Find the mistake, and correct it to complete the intended action.\n",
        "\n",
        "\n",
        "\n",
        "\n",
        "1. Create lists containing the upper case letters, lower case letters, and some punctuation marks.\n"
      ]
    },
    {
      "cell_type": "code",
      "metadata": {
        "id": "tk5bezBJrrqs"
      },
      "source": [
        "lower_case = [\"a\", \"b\", \"c\", \"d\", \"e\", \"f\", \"g\", \"h\", \"i\", \"j\", \"k\", \"l\", \"m\", \"n\", \"o\", \"p\", \"q\", \"r\", \"s\", \"t\", \"u\", \"v\", \"w\", \"x\", \"y\", \"z\"]\n",
        "\n",
        "upper_case = [\"A\", \"B\", \"C\", \"D\", \"E\", \"F\", \"G\", \"H\" \"I\", \"J\", \"K\", \"L\", \"M\", \"N\", \"O\", \"P\", \"Q\", \"R\", \"S\", \"T\", \"U\", \"V\", \"W\", \"X\", \"Y\", \"Z\"]\n",
        "\n",
        "punctuation = [\".\", \",\", \"!\", \"?\", \"'\", \"\", \"(\", \")\", \" \", \"-\", \";\", \":\"]"
      ],
      "execution_count": 323,
      "outputs": []
    },
    {
      "cell_type": "markdown",
      "metadata": {
        "id": "ZejwK6urrrqs"
      },
      "source": [
        "2. Make one long list containing all the symbols.  Find the length of this list.\n"
      ]
    },
    {
      "cell_type": "code",
      "metadata": {
        "id": "l8ZVLLXWrrqs",
        "outputId": "84f49e3c-0267-4739-854a-2d82ad1ed7a0",
        "colab": {
          "base_uri": "https://localhost:8080/"
        }
      },
      "source": [
        "all_symbols = [lower_case, upper_case, punctuation]\n",
        "\n",
        "l = len(lower_case)\n",
        "u = len(upper_case)\n",
        "p = len(punctuation)\n",
        "\n",
        "l+p+u"
      ],
      "execution_count": 324,
      "outputs": [
        {
          "output_type": "execute_result",
          "data": {
            "text/plain": [
              "63"
            ]
          },
          "metadata": {},
          "execution_count": 324
        }
      ]
    },
    {
      "cell_type": "markdown",
      "metadata": {
        "id": "HvgV76Dbrrqt"
      },
      "source": [
        "3. Repeat the previous steps, but instead of using *list* type objects, use **numpy arrays**.  Don't forget to **import** the numpy library!\n"
      ]
    },
    {
      "cell_type": "code",
      "metadata": {
        "id": "x9YyIMP6rrqt",
        "outputId": "d34c9dcf-2b64-4e6a-e16a-5629dba83b8a",
        "colab": {
          "base_uri": "https://localhost:8080/"
        }
      },
      "source": [
        "import numpy as np\n",
        "from numpy import array\n",
        "\n",
        "lower_case = array([\"a\", \"b\", \"c\", \"d\", \"e\", \"f\", \"g\", \"h\", \"i\", \"j\", \"k\", \"l\", \"m\", \"n\", \"o\", \"p\", \"q\", \"r\", \"s\", \"t\", \"u\", \"v\", \"w\", \"x\", \"y\", \"z\"])\n",
        "\n",
        "upper_case = array([\"A\", \"B\", \"C\", \"D\", \"E\", \"F\", \"G\", \"H\", \"I\", \"J\", \"K\", \"L\", \"M\", \"N\", \"O\", \"P\", \"Q\", \"R\", \"S\", \"T\", \"U\", \"V\", \"W\", \"X\", \"Y\", \"Z\"])\n",
        "\n",
        "punctuation = array([\".\", \",\", \"!\", \"?\", \"'\", \"\\\"\", \"(\", \")\", \" \", \"-\", \";\", \":\"])\n",
        "\n",
        "## Use np.concatenate to combine into long array\n",
        "all_symbols = np.concatenate((lower_case, upper_case, punctuation), axis=0)\n",
        "all_symbols\n",
        "len(all_symbols)"
      ],
      "execution_count": 325,
      "outputs": [
        {
          "output_type": "execute_result",
          "data": {
            "text/plain": [
              "64"
            ]
          },
          "metadata": {},
          "execution_count": 325
        }
      ]
    },
    {
      "cell_type": "markdown",
      "metadata": {
        "id": "rpbAtPlXrrqt"
      },
      "source": [
        "4. Make a **pandas data frame**, with one column called \"Symbol\" containing the `all_symbols` array.\n"
      ]
    },
    {
      "cell_type": "code",
      "metadata": {
        "id": "K103ZvNVrrqu",
        "colab": {
          "base_uri": "https://localhost:8080/",
          "height": 424
        },
        "outputId": "a2e5b2e0-8d5e-4246-fbc0-6d55314bc183"
      },
      "source": [
        "import pandas as pd\n",
        "\n",
        "\n",
        "symbols_df = pd.DataFrame({\"Symbol\":all_symbols})\n",
        "symbols_df\n",
        "\n",
        "#symbols_df.rename(columns={\"0\":\"Symbols\"})\n",
        "#symbols_df.rename({\"0\":\"Symbols\"},axis='columns')\n",
        "\n",
        "#I tried those two above and they were not working. Then I looked at different ways to label columns under pandas and I found that way.\n",
        "#https://pandas.pydata.org/docs/user_guide/10min.html\n"
      ],
      "execution_count": 328,
      "outputs": [
        {
          "output_type": "execute_result",
          "data": {
            "text/plain": [
              "   Symbol\n",
              "0       a\n",
              "1       b\n",
              "2       c\n",
              "3       d\n",
              "4       e\n",
              "..    ...\n",
              "59      )\n",
              "60       \n",
              "61      -\n",
              "62      ;\n",
              "63      :\n",
              "\n",
              "[64 rows x 1 columns]"
            ],
            "text/html": [
              "\n",
              "  <div id=\"df-68a5b1fd-28ea-445b-ac92-cd30a5b75bd5\" class=\"colab-df-container\">\n",
              "    <div>\n",
              "<style scoped>\n",
              "    .dataframe tbody tr th:only-of-type {\n",
              "        vertical-align: middle;\n",
              "    }\n",
              "\n",
              "    .dataframe tbody tr th {\n",
              "        vertical-align: top;\n",
              "    }\n",
              "\n",
              "    .dataframe thead th {\n",
              "        text-align: right;\n",
              "    }\n",
              "</style>\n",
              "<table border=\"1\" class=\"dataframe\">\n",
              "  <thead>\n",
              "    <tr style=\"text-align: right;\">\n",
              "      <th></th>\n",
              "      <th>Symbol</th>\n",
              "    </tr>\n",
              "  </thead>\n",
              "  <tbody>\n",
              "    <tr>\n",
              "      <th>0</th>\n",
              "      <td>a</td>\n",
              "    </tr>\n",
              "    <tr>\n",
              "      <th>1</th>\n",
              "      <td>b</td>\n",
              "    </tr>\n",
              "    <tr>\n",
              "      <th>2</th>\n",
              "      <td>c</td>\n",
              "    </tr>\n",
              "    <tr>\n",
              "      <th>3</th>\n",
              "      <td>d</td>\n",
              "    </tr>\n",
              "    <tr>\n",
              "      <th>4</th>\n",
              "      <td>e</td>\n",
              "    </tr>\n",
              "    <tr>\n",
              "      <th>...</th>\n",
              "      <td>...</td>\n",
              "    </tr>\n",
              "    <tr>\n",
              "      <th>59</th>\n",
              "      <td>)</td>\n",
              "    </tr>\n",
              "    <tr>\n",
              "      <th>60</th>\n",
              "      <td></td>\n",
              "    </tr>\n",
              "    <tr>\n",
              "      <th>61</th>\n",
              "      <td>-</td>\n",
              "    </tr>\n",
              "    <tr>\n",
              "      <th>62</th>\n",
              "      <td>;</td>\n",
              "    </tr>\n",
              "    <tr>\n",
              "      <th>63</th>\n",
              "      <td>:</td>\n",
              "    </tr>\n",
              "  </tbody>\n",
              "</table>\n",
              "<p>64 rows × 1 columns</p>\n",
              "</div>\n",
              "    <div class=\"colab-df-buttons\">\n",
              "\n",
              "  <div class=\"colab-df-container\">\n",
              "    <button class=\"colab-df-convert\" onclick=\"convertToInteractive('df-68a5b1fd-28ea-445b-ac92-cd30a5b75bd5')\"\n",
              "            title=\"Convert this dataframe to an interactive table.\"\n",
              "            style=\"display:none;\">\n",
              "\n",
              "  <svg xmlns=\"http://www.w3.org/2000/svg\" height=\"24px\" viewBox=\"0 -960 960 960\">\n",
              "    <path d=\"M120-120v-720h720v720H120Zm60-500h600v-160H180v160Zm220 220h160v-160H400v160Zm0 220h160v-160H400v160ZM180-400h160v-160H180v160Zm440 0h160v-160H620v160ZM180-180h160v-160H180v160Zm440 0h160v-160H620v160Z\"/>\n",
              "  </svg>\n",
              "    </button>\n",
              "\n",
              "  <style>\n",
              "    .colab-df-container {\n",
              "      display:flex;\n",
              "      gap: 12px;\n",
              "    }\n",
              "\n",
              "    .colab-df-convert {\n",
              "      background-color: #E8F0FE;\n",
              "      border: none;\n",
              "      border-radius: 50%;\n",
              "      cursor: pointer;\n",
              "      display: none;\n",
              "      fill: #1967D2;\n",
              "      height: 32px;\n",
              "      padding: 0 0 0 0;\n",
              "      width: 32px;\n",
              "    }\n",
              "\n",
              "    .colab-df-convert:hover {\n",
              "      background-color: #E2EBFA;\n",
              "      box-shadow: 0px 1px 2px rgba(60, 64, 67, 0.3), 0px 1px 3px 1px rgba(60, 64, 67, 0.15);\n",
              "      fill: #174EA6;\n",
              "    }\n",
              "\n",
              "    .colab-df-buttons div {\n",
              "      margin-bottom: 4px;\n",
              "    }\n",
              "\n",
              "    [theme=dark] .colab-df-convert {\n",
              "      background-color: #3B4455;\n",
              "      fill: #D2E3FC;\n",
              "    }\n",
              "\n",
              "    [theme=dark] .colab-df-convert:hover {\n",
              "      background-color: #434B5C;\n",
              "      box-shadow: 0px 1px 3px 1px rgba(0, 0, 0, 0.15);\n",
              "      filter: drop-shadow(0px 1px 2px rgba(0, 0, 0, 0.3));\n",
              "      fill: #FFFFFF;\n",
              "    }\n",
              "  </style>\n",
              "\n",
              "    <script>\n",
              "      const buttonEl =\n",
              "        document.querySelector('#df-68a5b1fd-28ea-445b-ac92-cd30a5b75bd5 button.colab-df-convert');\n",
              "      buttonEl.style.display =\n",
              "        google.colab.kernel.accessAllowed ? 'block' : 'none';\n",
              "\n",
              "      async function convertToInteractive(key) {\n",
              "        const element = document.querySelector('#df-68a5b1fd-28ea-445b-ac92-cd30a5b75bd5');\n",
              "        const dataTable =\n",
              "          await google.colab.kernel.invokeFunction('convertToInteractive',\n",
              "                                                    [key], {});\n",
              "        if (!dataTable) return;\n",
              "\n",
              "        const docLinkHtml = 'Like what you see? Visit the ' +\n",
              "          '<a target=\"_blank\" href=https://colab.research.google.com/notebooks/data_table.ipynb>data table notebook</a>'\n",
              "          + ' to learn more about interactive tables.';\n",
              "        element.innerHTML = '';\n",
              "        dataTable['output_type'] = 'display_data';\n",
              "        await google.colab.output.renderOutput(dataTable, element);\n",
              "        const docLink = document.createElement('div');\n",
              "        docLink.innerHTML = docLinkHtml;\n",
              "        element.appendChild(docLink);\n",
              "      }\n",
              "    </script>\n",
              "  </div>\n",
              "\n",
              "\n",
              "<div id=\"df-4826be49-27be-4b4c-b23c-3a65ddad1b5e\">\n",
              "  <button class=\"colab-df-quickchart\" onclick=\"quickchart('df-4826be49-27be-4b4c-b23c-3a65ddad1b5e')\"\n",
              "            title=\"Suggest charts.\"\n",
              "            style=\"display:none;\">\n",
              "\n",
              "<svg xmlns=\"http://www.w3.org/2000/svg\" height=\"24px\"viewBox=\"0 0 24 24\"\n",
              "     width=\"24px\">\n",
              "    <g>\n",
              "        <path d=\"M19 3H5c-1.1 0-2 .9-2 2v14c0 1.1.9 2 2 2h14c1.1 0 2-.9 2-2V5c0-1.1-.9-2-2-2zM9 17H7v-7h2v7zm4 0h-2V7h2v10zm4 0h-2v-4h2v4z\"/>\n",
              "    </g>\n",
              "</svg>\n",
              "  </button>\n",
              "\n",
              "<style>\n",
              "  .colab-df-quickchart {\n",
              "      --bg-color: #E8F0FE;\n",
              "      --fill-color: #1967D2;\n",
              "      --hover-bg-color: #E2EBFA;\n",
              "      --hover-fill-color: #174EA6;\n",
              "      --disabled-fill-color: #AAA;\n",
              "      --disabled-bg-color: #DDD;\n",
              "  }\n",
              "\n",
              "  [theme=dark] .colab-df-quickchart {\n",
              "      --bg-color: #3B4455;\n",
              "      --fill-color: #D2E3FC;\n",
              "      --hover-bg-color: #434B5C;\n",
              "      --hover-fill-color: #FFFFFF;\n",
              "      --disabled-bg-color: #3B4455;\n",
              "      --disabled-fill-color: #666;\n",
              "  }\n",
              "\n",
              "  .colab-df-quickchart {\n",
              "    background-color: var(--bg-color);\n",
              "    border: none;\n",
              "    border-radius: 50%;\n",
              "    cursor: pointer;\n",
              "    display: none;\n",
              "    fill: var(--fill-color);\n",
              "    height: 32px;\n",
              "    padding: 0;\n",
              "    width: 32px;\n",
              "  }\n",
              "\n",
              "  .colab-df-quickchart:hover {\n",
              "    background-color: var(--hover-bg-color);\n",
              "    box-shadow: 0 1px 2px rgba(60, 64, 67, 0.3), 0 1px 3px 1px rgba(60, 64, 67, 0.15);\n",
              "    fill: var(--button-hover-fill-color);\n",
              "  }\n",
              "\n",
              "  .colab-df-quickchart-complete:disabled,\n",
              "  .colab-df-quickchart-complete:disabled:hover {\n",
              "    background-color: var(--disabled-bg-color);\n",
              "    fill: var(--disabled-fill-color);\n",
              "    box-shadow: none;\n",
              "  }\n",
              "\n",
              "  .colab-df-spinner {\n",
              "    border: 2px solid var(--fill-color);\n",
              "    border-color: transparent;\n",
              "    border-bottom-color: var(--fill-color);\n",
              "    animation:\n",
              "      spin 1s steps(1) infinite;\n",
              "  }\n",
              "\n",
              "  @keyframes spin {\n",
              "    0% {\n",
              "      border-color: transparent;\n",
              "      border-bottom-color: var(--fill-color);\n",
              "      border-left-color: var(--fill-color);\n",
              "    }\n",
              "    20% {\n",
              "      border-color: transparent;\n",
              "      border-left-color: var(--fill-color);\n",
              "      border-top-color: var(--fill-color);\n",
              "    }\n",
              "    30% {\n",
              "      border-color: transparent;\n",
              "      border-left-color: var(--fill-color);\n",
              "      border-top-color: var(--fill-color);\n",
              "      border-right-color: var(--fill-color);\n",
              "    }\n",
              "    40% {\n",
              "      border-color: transparent;\n",
              "      border-right-color: var(--fill-color);\n",
              "      border-top-color: var(--fill-color);\n",
              "    }\n",
              "    60% {\n",
              "      border-color: transparent;\n",
              "      border-right-color: var(--fill-color);\n",
              "    }\n",
              "    80% {\n",
              "      border-color: transparent;\n",
              "      border-right-color: var(--fill-color);\n",
              "      border-bottom-color: var(--fill-color);\n",
              "    }\n",
              "    90% {\n",
              "      border-color: transparent;\n",
              "      border-bottom-color: var(--fill-color);\n",
              "    }\n",
              "  }\n",
              "</style>\n",
              "\n",
              "  <script>\n",
              "    async function quickchart(key) {\n",
              "      const quickchartButtonEl =\n",
              "        document.querySelector('#' + key + ' button');\n",
              "      quickchartButtonEl.disabled = true;  // To prevent multiple clicks.\n",
              "      quickchartButtonEl.classList.add('colab-df-spinner');\n",
              "      try {\n",
              "        const charts = await google.colab.kernel.invokeFunction(\n",
              "            'suggestCharts', [key], {});\n",
              "      } catch (error) {\n",
              "        console.error('Error during call to suggestCharts:', error);\n",
              "      }\n",
              "      quickchartButtonEl.classList.remove('colab-df-spinner');\n",
              "      quickchartButtonEl.classList.add('colab-df-quickchart-complete');\n",
              "    }\n",
              "    (() => {\n",
              "      let quickchartButtonEl =\n",
              "        document.querySelector('#df-4826be49-27be-4b4c-b23c-3a65ddad1b5e button');\n",
              "      quickchartButtonEl.style.display =\n",
              "        google.colab.kernel.accessAllowed ? 'block' : 'none';\n",
              "    })();\n",
              "  </script>\n",
              "</div>\n",
              "    </div>\n",
              "  </div>\n"
            ]
          },
          "metadata": {},
          "execution_count": 328
        }
      ]
    },
    {
      "cell_type": "markdown",
      "metadata": {
        "id": "L-m2LLyHrrqu"
      },
      "source": [
        "## Part Two: Decoding the secret message.\n"
      ]
    },
    {
      "cell_type": "code",
      "metadata": {
        "id": "iP7Zj5hPrrqu",
        "colab": {
          "base_uri": "https://localhost:8080/"
        },
        "outputId": "a3c520b6-861f-462f-c99e-93f7e6c09a1a"
      },
      "source": [
        "import numpy as np\n",
        "\n",
        "\n",
        "top_secret = pd.read_csv(\"https://www.dropbox.com/s/k72h1zewk4gtqep/PA_Secret_Code?dl=1\", header=None)\n",
        "\n",
        "#top_secret = top_secret['0'].to_numpy()\n",
        "\n",
        "ts = (np.exp(((top_secret +14)*18)-257))\n",
        "\n",
        "ts\n",
        "\n",
        "\n",
        "t = ts**2\n",
        "t<17\n",
        "\n",
        "np.sum(np.array(t)<17)\n",
        "\n"
      ],
      "execution_count": 299,
      "outputs": [
        {
          "output_type": "execute_result",
          "data": {
            "text/plain": [
              "352"
            ]
          },
          "metadata": {},
          "execution_count": 299
        }
      ]
    },
    {
      "cell_type": "markdown",
      "source": [
        "# Bodwin's Help"
      ],
      "metadata": {
        "id": "7lSWgtD1t8B2"
      }
    },
    {
      "cell_type": "code",
      "source": [
        "\n",
        "#top_secret = top.reshape(5, -1).T\n",
        "#evens = np.arange(2, 384, 2)\n",
        "#top_secret[:,0] = top_secret[:,0] - evens\n",
        "#top_secret[17:24, 2] = top_secret[17:24, 2] - 100\n",
        "#top_secret[:,3:5] = top_secret[:,3:5]*2\n",
        "#top_secret = top_secret.T.flatten()\n",
        "\n",
        "#sum(top_secret[500:955] >= 100)\n"
      ],
      "metadata": {
        "id": "K9jdQ-Lk51OR"
      },
      "execution_count": 300,
      "outputs": []
    },
    {
      "cell_type": "code",
      "source": [
        "#top_secret"
      ],
      "metadata": {
        "id": "7voxZb_1nTgb"
      },
      "execution_count": 301,
      "outputs": []
    },
    {
      "cell_type": "markdown",
      "source": [
        "# My attempt"
      ],
      "metadata": {
        "id": "0oB-e-Gfo7ht"
      }
    },
    {
      "cell_type": "code",
      "source": [
        "top = np.array(t)\n",
        "tops = np.array(top).reshape(-1, 5 , order = 'F')"
      ],
      "metadata": {
        "id": "SpB8_UVgo69I"
      },
      "execution_count": 302,
      "outputs": []
    },
    {
      "cell_type": "code",
      "source": [
        "\n",
        "\n",
        "even_numbers = [num for num in range(2, 383) if num % 2 == 0]\n",
        "\n",
        "evens = (np.arange(2,383,2))\n",
        "\n",
        "evens"
      ],
      "metadata": {
        "colab": {
          "base_uri": "https://localhost:8080/"
        },
        "id": "pZPMU90Y53Cb",
        "outputId": "74973e80-1663-4703-f7dd-ae69c38581b7"
      },
      "execution_count": 303,
      "outputs": [
        {
          "output_type": "execute_result",
          "data": {
            "text/plain": [
              "array([  2,   4,   6,   8,  10,  12,  14,  16,  18,  20,  22,  24,  26,\n",
              "        28,  30,  32,  34,  36,  38,  40,  42,  44,  46,  48,  50,  52,\n",
              "        54,  56,  58,  60,  62,  64,  66,  68,  70,  72,  74,  76,  78,\n",
              "        80,  82,  84,  86,  88,  90,  92,  94,  96,  98, 100, 102, 104,\n",
              "       106, 108, 110, 112, 114, 116, 118, 120, 122, 124, 126, 128, 130,\n",
              "       132, 134, 136, 138, 140, 142, 144, 146, 148, 150, 152, 154, 156,\n",
              "       158, 160, 162, 164, 166, 168, 170, 172, 174, 176, 178, 180, 182,\n",
              "       184, 186, 188, 190, 192, 194, 196, 198, 200, 202, 204, 206, 208,\n",
              "       210, 212, 214, 216, 218, 220, 222, 224, 226, 228, 230, 232, 234,\n",
              "       236, 238, 240, 242, 244, 246, 248, 250, 252, 254, 256, 258, 260,\n",
              "       262, 264, 266, 268, 270, 272, 274, 276, 278, 280, 282, 284, 286,\n",
              "       288, 290, 292, 294, 296, 298, 300, 302, 304, 306, 308, 310, 312,\n",
              "       314, 316, 318, 320, 322, 324, 326, 328, 330, 332, 334, 336, 338,\n",
              "       340, 342, 344, 346, 348, 350, 352, 354, 356, 358, 360, 362, 364,\n",
              "       366, 368, 370, 372, 374, 376, 378, 380, 382])"
            ]
          },
          "metadata": {},
          "execution_count": 303
        }
      ]
    },
    {
      "cell_type": "code",
      "source": [
        "tops[:,0] -= evens\n"
      ],
      "metadata": {
        "id": "aOrj2o0iF1S8"
      },
      "execution_count": 304,
      "outputs": []
    },
    {
      "cell_type": "code",
      "source": [
        "tops"
      ],
      "metadata": {
        "id": "wYd93Ua-ys1X"
      },
      "execution_count": null,
      "outputs": []
    },
    {
      "cell_type": "code",
      "source": [
        " tops[17:24,2] -=100\n",
        "#tops"
      ],
      "metadata": {
        "id": "-Yea7gEGJmi6"
      },
      "execution_count": 306,
      "outputs": []
    },
    {
      "cell_type": "code",
      "source": [
        "tops"
      ],
      "metadata": {
        "colab": {
          "base_uri": "https://localhost:8080/"
        },
        "id": "sdXenA2pziQY",
        "outputId": "6676c3eb-9387-4ecd-89dd-34a80fec4a85"
      },
      "execution_count": 307,
      "outputs": [
        {
          "output_type": "execute_result",
          "data": {
            "text/plain": [
              "array([[5.700e+01, 1.440e+02, 3.610e+02, 9.000e+00, 2.050e+01],\n",
              "       [4.600e+01, 1.000e+00, 1.521e+03, 7.500e+00, 3.050e+01],\n",
              "       [2.300e+01, 5.290e+02, 2.250e+02, 1.050e+01, 3.000e+00],\n",
              "       [1.000e+00, 3.610e+02, 2.250e+02, 3.500e+00, 9.000e+00],\n",
              "       [1.900e+01, 3.721e+03, 1.600e+01, 4.000e+00, 5.000e-01],\n",
              "       [6.100e+01, 1.521e+03, 3.721e+03, 3.050e+01, 1.000e+00],\n",
              "       [2.000e+00, 6.400e+01, 1.000e+00, 5.000e-01, 5.000e+00],\n",
              "       [1.800e+01, 1.000e+00, 5.290e+02, 7.000e+00, 7.500e+00],\n",
              "       [9.000e+00, 1.521e+03, 6.400e+01, 2.000e+00, 1.050e+01],\n",
              "       [1.200e+01, 3.721e+03, 8.100e+01, 3.050e+01, 9.500e+00],\n",
              "       [1.200e+01, 9.000e+00, 1.440e+02, 1.950e+01, 3.050e+01],\n",
              "       [9.000e+00, 1.000e+00, 2.500e+01, 4.000e+00, 2.000e+00],\n",
              "       [7.000e+00, 1.521e+03, 3.721e+03, 9.000e+00, 5.000e-01],\n",
              "       [5.400e+01, 9.000e+00, 8.100e+01, 7.500e+00, 1.250e+01],\n",
              "       [6.100e+01, 6.400e+01, 1.960e+02, 1.050e+01, 2.750e+01],\n",
              "       [1.000e+00, 3.025e+03, 3.721e+03, 3.500e+00, 3.050e+01],\n",
              "       [1.400e+01, 3.721e+03, 1.521e+03, 4.000e+00, 1.450e+01],\n",
              "       [4.000e+00, 7.840e+02, 6.400e+01, 3.050e+01, 5.000e-01],\n",
              "       [6.100e+01, 2.500e+01, 2.250e+02, 3.050e+01, 6.000e+00],\n",
              "       [3.900e+01, 5.290e+02, 4.410e+02, 3.050e+01, 6.000e+00],\n",
              "       [8.000e+00, 1.000e+00, 4.900e+01, 2.300e+01, 7.500e+00],\n",
              "       [5.000e+00, 3.240e+02, 6.400e+01, 4.000e+00, 7.500e+00],\n",
              "       [6.100e+01, 2.500e+01, 1.521e+03, 2.500e+00, 4.000e+00],\n",
              "       [1.900e+01, 3.721e+03, 2.809e+03, 3.050e+01, 2.750e+01],\n",
              "       [1.200e+01, 1.521e+03, 3.721e+03, 1.100e+01, 3.050e+01],\n",
              "       [9.000e+00, 6.400e+01, 7.290e+02, 7.500e+00, 1.450e+01],\n",
              "       [3.900e+01, 2.500e+01, 1.960e+02, 9.000e+00, 5.000e-01],\n",
              "       [8.000e+00, 3.721e+03, 1.600e+01, 8.000e+00, 6.000e+00],\n",
              "       [2.500e+01, 1.296e+03, 2.916e+03, 5.000e-01, 6.000e+00],\n",
              "       [6.100e+01, 4.410e+02, 3.721e+03, 6.000e+00, 5.000e-01],\n",
              "       [3.900e+01, 4.000e+00, 1.000e+00, 3.050e+01, 1.250e+01],\n",
              "       [1.500e+01, 1.000e+02, 3.610e+02, 1.000e+00, 2.750e+01],\n",
              "       [2.200e+01, 4.410e+02, 3.721e+03, 6.000e+00, 2.900e+01],\n",
              "       [5.000e+00, 4.000e+00, 8.100e+01, 5.000e-01, 3.050e+01],\n",
              "       [1.900e+01, 3.721e+03, 1.960e+02, 2.000e+00, 3.050e+01],\n",
              "       [6.100e+01, 4.000e+00, 3.721e+03, 2.500e+00, 3.050e+01],\n",
              "       [6.100e+01, 8.100e+01, 4.410e+02, 3.050e+01, 1.700e+01],\n",
              "       [3.721e+03, 3.240e+02, 3.600e+01, 1.150e+01, 2.500e+00],\n",
              "       [9.000e+02, 1.600e+01, 3.600e+01, 2.500e+00, 3.050e+01],\n",
              "       [8.100e+01, 2.916e+03, 8.100e+01, 7.000e+00, 1.500e+00],\n",
              "       [1.600e+01, 3.721e+03, 3.610e+02, 1.950e+01, 4.000e+00],\n",
              "       [3.721e+03, 1.000e+00, 6.400e+01, 3.050e+01, 7.500e+00],\n",
              "       [4.900e+01, 1.960e+02, 3.721e+03, 9.500e+00, 9.000e+00],\n",
              "       [6.250e+02, 1.600e+01, 1.521e+03, 7.000e+00, 1.950e+01],\n",
              "       [3.240e+02, 3.721e+03, 6.400e+01, 4.500e+00, 6.000e+00],\n",
              "       [2.500e+01, 3.610e+02, 2.250e+02, 1.500e+00, 2.500e+00],\n",
              "       [3.721e+03, 6.400e+01, 4.410e+02, 5.500e+00, 2.000e+00],\n",
              "       [1.000e+00, 4.410e+02, 4.900e+01, 2.500e+00, 3.050e+01],\n",
              "       [1.960e+02, 1.960e+02, 6.400e+01, 9.000e+00, 4.500e+00],\n",
              "       [1.600e+01, 3.721e+03, 1.521e+03, 3.100e+01, 7.000e+00],\n",
              "       [3.721e+03, 3.721e+03, 3.721e+03, 9.500e+00, 3.050e+01],\n",
              "       [4.900e+01, 3.721e+03, 6.400e+01, 7.000e+00, 4.000e+00],\n",
              "       [8.100e+01, 2.116e+03, 2.500e+01, 5.000e-01, 4.500e+00],\n",
              "       [1.690e+02, 6.400e+01, 3.721e+03, 1.500e+00, 9.500e+00],\n",
              "       [4.000e+00, 2.500e+01, 3.610e+02, 5.500e+00, 3.050e+01],\n",
              "       [1.440e+02, 3.721e+03, 1.521e+03, 2.750e+01, 5.000e+00],\n",
              "       [2.500e+01, 3.600e+01, 2.250e+02, 3.050e+01, 7.500e+00],\n",
              "       [3.721e+03, 3.240e+02, 2.250e+02, 1.700e+01, 1.250e+01],\n",
              "       [8.100e+01, 4.410e+02, 1.600e+01, 2.500e+00, 2.650e+01],\n",
              "       [1.960e+02, 1.690e+02, 2.916e+03, 3.050e+01, 3.050e+01],\n",
              "       [3.721e+03, 8.100e+01, 3.721e+03, 6.000e+00, 2.850e+01],\n",
              "       [1.521e+03, 2.250e+02, 3.721e+03, 2.500e+00, 2.300e+01],\n",
              "       [6.400e+01, 4.410e+02, 3.721e+03, 3.000e+00, 1.150e+01],\n",
              "       [2.500e+01, 3.610e+02, 2.116e+03, 1.950e+01, 5.000e-01],\n",
              "       [3.721e+03, 3.721e+03, 6.400e+01, 3.050e+01, 9.500e+00],\n",
              "       [5.290e+02, 7.840e+02, 2.500e+01, 4.500e+00, 3.050e+01],\n",
              "       [1.000e+00, 1.000e+00, 3.721e+03, 1.950e+01, 1.000e+00],\n",
              "       [4.000e+00, 1.960e+02, 1.296e+03, 3.050e+01, 9.000e+00],\n",
              "       [2.500e+01, 1.600e+01, 1.000e+00, 2.000e+00, 4.500e+00],\n",
              "       [4.096e+03, 2.500e+01, 4.000e+00, 2.500e+00, 6.000e+00],\n",
              "       [3.721e+03, 3.240e+02, 4.000e+00, 5.000e-01, 6.000e+00],\n",
              "       [7.290e+02, 3.610e+02, 2.500e+01, 2.000e+00, 4.500e+00],\n",
              "       [1.440e+02, 1.960e+02, 3.240e+02, 2.700e+01, 3.500e+00],\n",
              "       [1.440e+02, 1.000e+00, 5.290e+02, 3.050e+01, 2.700e+01],\n",
              "       [3.721e+03, 1.521e+03, 2.250e+02, 5.000e-01, 3.050e+01],\n",
              "       [1.690e+02, 9.000e+00, 9.000e+00, 7.000e+00, 5.000e-01],\n",
              "       [8.100e+01, 6.400e+01, 1.210e+02, 2.000e+00, 7.000e+00],\n",
              "       [1.690e+02, 3.025e+03, 2.916e+03, 3.050e+01, 2.000e+00],\n",
              "       [3.610e+02, 3.364e+03, 3.721e+03, 1.150e+01, 3.050e+01],\n",
              "       [6.250e+02, 3.721e+03, 5.290e+02, 4.500e+00, 1.950e+01],\n",
              "       [3.721e+03, 1.156e+03, 8.100e+01, 1.950e+01, 4.000e+00],\n",
              "       [5.290e+02, 2.500e+01, 1.521e+03, 4.000e+00, 2.500e+00],\n",
              "       [2.500e+01, 3.721e+03, 6.400e+01, 3.050e+01, 3.050e+01],\n",
              "       [3.240e+02, 1.521e+03, 6.100e+01, 4.500e+00, 9.500e+00],\n",
              "       [2.500e+01, 2.250e+02, 5.000e+00, 1.950e+01, 6.000e+00],\n",
              "       [3.721e+03, 2.250e+02, 2.500e+01, 9.500e+00, 4.500e+00],\n",
              "       [1.521e+03, 1.210e+02, 5.000e+00, 3.050e+01, 1.950e+01],\n",
              "       [6.400e+01, 3.721e+03, 1.900e+01, 4.000e+00, 4.000e+00],\n",
              "       [2.500e+01, 6.400e+01, 6.100e+01, 2.500e+00, 1.250e+01],\n",
              "       [3.721e+03, 8.100e+01, 1.500e+01, 5.000e-01, 3.050e+01],\n",
              "       [4.000e+00, 3.610e+02, 6.000e+00, 2.000e+00, 1.950e+01],\n",
              "       [2.250e+02, 3.721e+03, 6.100e+01, 3.050e+01, 7.500e+00],\n",
              "       [3.240e+02, 4.840e+02, 6.000e+00, 3.050e+01, 1.100e+01],\n",
              "       [2.250e+02, 2.250e+02, 1.200e+01, 3.050e+01, 2.500e+00],\n",
              "       [4.900e+01, 3.240e+02, 1.000e+00, 1.700e+01, 9.500e+00],\n",
              "       [2.250e+02, 2.560e+02, 1.300e+01, 2.500e+00, 3.050e+01],\n",
              "       [4.840e+02, 1.000e+00, 5.000e+00, 3.050e+01, 3.050e+01],\n",
              "       [2.500e+01, 1.440e+02, 5.400e+01, 1.150e+01, 3.050e+01],\n",
              "       [3.610e+02, 3.721e+03, 6.100e+01, 2.500e+00, 1.500e+01],\n",
              "       [2.916e+03, 3.610e+02, 2.900e+01, 7.000e+00, 4.500e+00],\n",
              "       [3.721e+03, 5.290e+02, 1.000e+00, 1.950e+01, 2.000e+00],\n",
              "       [3.721e+03, 2.250e+02, 1.300e+01, 3.050e+01, 3.050e+01],\n",
              "       [3.721e+03, 3.240e+02, 5.000e+00, 3.500e+00, 3.500e+00],\n",
              "       [7.290e+02, 1.600e+01, 6.100e+01, 5.000e-01, 1.250e+01],\n",
              "       [1.960e+02, 3.721e+03, 2.300e+01, 6.000e+00, 9.000e+00],\n",
              "       [1.600e+01, 8.100e+01, 8.000e+00, 1.050e+01, 2.500e+00],\n",
              "       [3.721e+03, 1.960e+02, 9.000e+00, 6.500e+00, 3.050e+01],\n",
              "       [1.521e+03, 3.721e+03, 6.000e+00, 8.000e+00, 5.000e-01],\n",
              "       [6.400e+01, 6.400e+01, 6.000e+00, 4.000e+00, 7.000e+00],\n",
              "       [2.500e+01, 1.000e+00, 1.200e+01, 4.500e+00, 2.000e+00],\n",
              "       [3.721e+03, 1.960e+02, 9.000e+00, 7.000e+00, 3.050e+01],\n",
              "       [1.690e+02, 1.600e+01, 1.400e+01, 3.500e+00, 3.500e+00],\n",
              "       [2.250e+02, 3.969e+03, 7.000e+00, 3.050e+01, 4.500e+00],\n",
              "       [1.690e+02, 3.721e+03, 6.100e+01, 1.000e+00, 6.500e+00],\n",
              "       [2.500e+01, 3.721e+03, 3.900e+01, 5.000e-01, 1.000e+00],\n",
              "       [3.721e+03, 3.721e+03, 8.000e+00, 1.500e+00, 6.000e+00],\n",
              "       [3.240e+02, 1.444e+03, 1.800e+01, 5.500e+00, 2.500e+00],\n",
              "       [1.000e+00, 2.250e+02, 1.500e+01, 2.650e+01, 3.050e+01],\n",
              "       [1.521e+03, 1.960e+02, 2.100e+01, 3.050e+01, 4.500e+00],\n",
              "       [6.400e+01, 4.900e+01, 7.000e+00, 2.900e+01, 7.000e+00],\n",
              "       [3.610e+02, 3.721e+03, 8.000e+00, 1.350e+01, 3.050e+01],\n",
              "       [3.721e+03, 1.521e+03, 6.100e+01, 7.000e+00, 1.950e+01],\n",
              "       [2.250e+02, 8.100e+01, 3.900e+01, 2.000e+00, 4.000e+00],\n",
              "       [4.410e+02, 1.690e+02, 8.000e+00, 3.050e+01, 2.500e+00],\n",
              "       [1.521e+03, 2.500e+01, 5.000e+00, 4.000e+00, 3.050e+01],\n",
              "       [4.900e+01, 3.721e+03, 6.100e+01, 5.000e-01, 1.150e+01],\n",
              "       [3.240e+02, 1.521e+03, 3.900e+01, 9.500e+00, 5.000e-01],\n",
              "       [1.000e+00, 6.400e+01, 2.100e+01, 1.950e+01, 1.000e+00],\n",
              "       [4.000e+00, 2.500e+01, 1.200e+01, 3.050e+01, 2.500e+00],\n",
              "       [2.500e+01, 3.721e+03, 7.000e+00, 1.950e+01, 3.200e+01],\n",
              "       [2.809e+03, 1.690e+02, 5.000e+00, 4.000e+00, 3.050e+01],\n",
              "       [3.721e+03, 1.000e+00, 2.500e+01, 7.500e+00, 1.350e+01],\n",
              "       [3.364e+03, 1.960e+02, 6.100e+01, 1.050e+01, 6.000e+00],\n",
              "       [7.840e+02, 5.760e+02, 2.300e+01, 3.050e+01, 6.000e+00],\n",
              "       [2.500e+01, 2.250e+02, 1.500e+01, 9.500e+00, 3.050e+01],\n",
              "       [5.290e+02, 1.690e+02, 1.500e+01, 6.000e+00, 6.500e+00],\n",
              "       [1.000e+00, 2.500e+01, 4.000e+00, 5.000e-01, 4.500e+00],\n",
              "       [3.240e+02, 3.721e+03, 5.400e+01, 4.500e+00, 6.500e+00],\n",
              "       [2.500e+01, 3.600e+01, 6.100e+01, 7.000e+00, 9.500e+00],\n",
              "       [3.721e+03, 2.250e+02, 6.100e+01, 3.050e+01, 1.250e+01],\n",
              "       [1.521e+03, 2.500e+01, 6.100e+01, 1.950e+01, 3.050e+01],\n",
              "       [6.400e+01, 3.721e+03, 2.700e+01, 4.000e+00, 1.150e+01],\n",
              "       [2.500e+01, 6.400e+01, 1.400e+01, 2.500e+00, 2.500e+00],\n",
              "       [3.721e+03, 2.500e+01, 4.000e+00, 3.050e+01, 9.000e+00],\n",
              "       [1.296e+03, 3.721e+03, 6.100e+01, 1.800e+01, 2.500e+00],\n",
              "       [1.000e+00, 3.610e+02, 2.000e+00, 5.000e-01, 3.050e+01],\n",
              "       [4.000e+00, 2.250e+02, 2.100e+01, 1.000e+00, 1.950e+01],\n",
              "       [4.000e+00, 4.410e+02, 1.800e+01, 1.000e+00, 4.000e+00],\n",
              "       [2.500e+01, 4.900e+01, 2.000e+00, 2.500e+00, 2.500e+00],\n",
              "       [3.240e+02, 6.400e+01, 1.200e+01, 9.000e+00, 3.050e+01],\n",
              "       [5.290e+02, 1.521e+03, 5.000e+00, 1.150e+01, 1.000e+00],\n",
              "       [2.250e+02, 3.844e+03, 4.000e+00, 7.500e+00, 7.500e+00],\n",
              "       [9.000e+00, 3.721e+03, 6.100e+01, 1.500e+00, 9.000e+00],\n",
              "       [1.210e+02, 2.025e+03, 1.000e+00, 5.500e+00, 7.500e+00],\n",
              "       [2.916e+03, 2.250e+02, 1.900e+01, 2.800e+01, 3.500e+00],\n",
              "       [3.721e+03, 3.721e+03, 6.100e+01, 3.050e+01, 7.500e+00],\n",
              "       [1.690e+02, 3.240e+02, 9.000e+00, 3.050e+01, 1.100e+01],\n",
              "       [6.250e+02, 2.500e+01, 3.900e+01, 3.050e+01, 2.500e+00],\n",
              "       [3.721e+03, 3.610e+02, 6.100e+01, 1.450e+01, 9.500e+00],\n",
              "       [3.610e+02, 1.521e+03, 3.000e+00, 7.500e+00, 2.700e+01],\n",
              "       [2.250e+02, 2.500e+01, 1.000e+00, 6.500e+00, 3.050e+01],\n",
              "       [1.960e+02, 1.600e+01, 1.300e+01, 2.500e+00, 3.050e+01],\n",
              "       [3.025e+03, 3.721e+03, 5.000e+00, 3.050e+01, 3.050e+01],\n",
              "       [3.721e+03, 6.400e+01, 5.500e+01, 1.950e+01, 1.350e+01],\n",
              "       [3.721e+03, 2.500e+01, 6.100e+01, 7.500e+00, 7.000e+00],\n",
              "       [3.721e+03, 3.721e+03, 4.100e+01, 3.050e+01, 2.000e+00],\n",
              "       [2.116e+03, 4.000e+00, 1.400e+01, 6.500e+00, 3.050e+01],\n",
              "       [6.400e+01, 6.250e+02, 5.000e+00, 1.250e+01, 1.950e+01],\n",
              "       [2.500e+01, 3.721e+03, 5.400e+01, 3.050e+01, 4.000e+00],\n",
              "       [3.721e+03, 1.521e+03, 6.100e+01, 5.000e-01, 2.500e+00],\n",
              "       [1.000e+02, 6.400e+01, 3.900e+01, 9.000e+00, 3.050e+01],\n",
              "       [1.000e+00, 2.500e+01, 2.300e+01, 6.500e+00, 6.500e+00],\n",
              "       [5.290e+02, 3.721e+03, 1.500e+01, 9.500e+00, 7.500e+00],\n",
              "       [3.610e+02, 2.116e+03, 5.500e+01, 2.700e+01, 6.500e+00],\n",
              "       [3.721e+03, 4.410e+02, 6.100e+01, 3.050e+01, 2.500e+00],\n",
              "       [1.521e+03, 1.690e+02, 4.100e+01, 6.500e+00, 3.050e+01],\n",
              "       [6.400e+01, 1.521e+03, 1.400e+01, 1.250e+01, 9.000e+00],\n",
              "       [1.000e+00, 4.410e+02, 5.000e+00, 3.050e+01, 5.000e-01],\n",
              "       [1.521e+03, 1.690e+02, 5.400e+01, 1.000e+00, 1.950e+01],\n",
              "       [3.721e+03, 3.721e+03, 6.100e+01, 2.500e+00, 4.000e+00],\n",
              "       [4.000e+00, 1.521e+03, 3.900e+01, 5.000e-01, 9.500e+00],\n",
              "       [8.100e+01, 3.240e+02, 2.300e+01, 6.500e+00, 3.050e+01],\n",
              "       [1.521e+03, 2.500e+01, 1.500e+01, 4.500e+00, 7.500e+00],\n",
              "       [2.500e+01, 2.500e+01, 5.500e+01, 9.500e+00, 1.050e+01],\n",
              "       [2.916e+03, 3.721e+03, 6.100e+01, 4.000e+00, 1.950e+01],\n",
              "       [3.721e+03, 3.721e+03, 2.700e+01, 3.050e+01, 3.500e+00],\n",
              "       [1.521e+03, 3.721e+03, 1.400e+01, 1.000e+00, 9.000e+00],\n",
              "       [6.400e+01, 7.290e+02, 4.000e+00, 7.500e+00, 5.000e-01],\n",
              "       [2.500e+01, 1.960e+02, 6.100e+01, 1.250e+01, 1.000e+00],\n",
              "       [3.721e+03, 1.600e+01, 3.900e+01, 2.750e+01, 2.500e+00],\n",
              "       [9.000e+00, 3.721e+03, 8.000e+00, 3.050e+01, 2.650e+01]])"
            ]
          },
          "metadata": {},
          "execution_count": 307
        }
      ]
    },
    {
      "cell_type": "code",
      "source": [
        "#type(tops)"
      ],
      "metadata": {
        "id": "UVmhTo4zLyrr"
      },
      "execution_count": 308,
      "outputs": []
    },
    {
      "cell_type": "code",
      "source": [
        "tops[:,4] *=2\n",
        "#tops"
      ],
      "metadata": {
        "id": "kkYCr7QTLN-j"
      },
      "execution_count": 310,
      "outputs": []
    },
    {
      "cell_type": "code",
      "source": [
        "tops[:,3] *=2\n",
        "#tops"
      ],
      "metadata": {
        "id": "py9Y-RIXM3Su"
      },
      "execution_count": 311,
      "outputs": []
    },
    {
      "cell_type": "markdown",
      "source": [],
      "metadata": {
        "id": "tz1WOga8C4L0"
      }
    },
    {
      "cell_type": "code",
      "source": [
        "tops = tops.flatten(order = 'F')"
      ],
      "metadata": {
        "id": "00e42HthOjSN"
      },
      "execution_count": 312,
      "outputs": []
    },
    {
      "cell_type": "code",
      "source": [
        "tops"
      ],
      "metadata": {
        "id": "hAM8ZAyfxNkp"
      },
      "execution_count": null,
      "outputs": []
    },
    {
      "cell_type": "code",
      "source": [
        "top_secret = all(num < 100 for num in tops[500:])\n",
        "top_secret"
      ],
      "metadata": {
        "colab": {
          "base_uri": "https://localhost:8080/"
        },
        "id": "zArlCd1e0KT-",
        "outputId": "9736e31d-a2b3-40f1-a341-19a68b5ea6f7"
      },
      "execution_count": 313,
      "outputs": [
        {
          "output_type": "execute_result",
          "data": {
            "text/plain": [
              "True"
            ]
          },
          "metadata": {},
          "execution_count": 313
        }
      ]
    },
    {
      "cell_type": "markdown",
      "source": [
        "# 11, 12, 13"
      ],
      "metadata": {
        "id": "FWk5dkwPpPli"
      }
    },
    {
      "cell_type": "code",
      "source": [
        "tops[37:465] = np.sqrt(tops[37:465])\n",
        "\n"
      ],
      "metadata": {
        "id": "nl-b9v35X5fQ"
      },
      "execution_count": 314,
      "outputs": []
    },
    {
      "cell_type": "code",
      "source": [
        "tops = np.round(tops)"
      ],
      "metadata": {
        "id": "IXIlK6oykrCS"
      },
      "execution_count": 315,
      "outputs": []
    },
    {
      "cell_type": "code",
      "source": [
        "top_secret = np.where(tops ==39., 20., tops)"
      ],
      "metadata": {
        "id": "Vw8ak14Lmhb2"
      },
      "execution_count": 316,
      "outputs": []
    },
    {
      "cell_type": "code",
      "source": [
        "top_secret"
      ],
      "metadata": {
        "id": "8UM_lzG54txS"
      },
      "execution_count": null,
      "outputs": []
    },
    {
      "cell_type": "code",
      "source": [
        "even_count = np.sum(top_secret % 2 == 0)\n",
        "even_count"
      ],
      "metadata": {
        "colab": {
          "base_uri": "https://localhost:8080/"
        },
        "id": "4Y8-8b8V7WhH",
        "outputId": "ae8ff122-a9eb-48f4-d898-e8dd6a4e671d"
      },
      "execution_count": 318,
      "outputs": [
        {
          "output_type": "execute_result",
          "data": {
            "text/plain": [
              "344"
            ]
          },
          "metadata": {},
          "execution_count": 318
        }
      ]
    },
    {
      "cell_type": "code",
      "source": [
        "top_secret = top_secret - 1"
      ],
      "metadata": {
        "id": "8-DyLiMB9VbZ"
      },
      "execution_count": 321,
      "outputs": []
    },
    {
      "cell_type": "markdown",
      "metadata": {
        "id": "T3ui38Z9rrqu"
      },
      "source": [
        "### Hint\n",
        "\n",
        "Recall that basic math operations are **vectorized**.  This means you don't have to repeat the process for each item in a list; you can apply the math to the whole thing at once.\n",
        "\n",
        "### Instructions\n",
        "\n",
        "By altering this top secret set of numbers, you will be able to create a message.  Write your own code to complete the steps below.\n",
        "\n",
        "1. Add 14 to every number.\n",
        "2. Multiply every number by 18, then subtract 257.\n",
        "3. Exponentiate every number.  (That is, do e^[number].  You may have to Google how to do this!)\n",
        "4. Square every number.\n",
        "\n",
        "**Checkpoint:** Headquarters has informed you that at this stage of decoding, there should be 352 numbers in the secret message that are below 17.  Write code to check if this is true for your data.\n",
        "\n",
        "\n",
        "5. Turn your one-dimensional array of numbers into a two-dimensional array (matrix) with 5 columns.\n",
        "6. Separately from your top secret numbers, create an array of all the even numbers between 1 and 382. Name it \"evens\". That is, \"evens\" should contain 2, 4, 6, 8 ..., 382.\n",
        "7. Subtract the \"evens\" vector from the first column of your secret message matrix.\n",
        "8. Subtract 100 from all numbers in the 18-24th rows of the 3rd column.\n",
        "9. Multiply all numbers in the 4th and 5th column by 2.\n",
        "10. Turn your matrix back into a one dimensional array.\n",
        "\n",
        "\n",
        "**Checkpoint:** Headquarters has informed you that at this stage of decoding, all numbers in indices 500 and beyond are below 100.  Write code to check if your numbers fulfill this requirement.\n",
        "\n",
        "11. Take the square root of all numbers in indices 38 to 465.\n",
        "12. Round all numbers to the nearest whole number.\n",
        "13. Replace all instances of the number 39 with 20.\n",
        "\n",
        "**Checkpoint:** Headquarters has informed you that your final message should have 344 even numbers.  Write code to check if your numbers fulfill this requirement.\n",
        "\n",
        "## Part 3: The secret message!\n",
        "\n",
        "Run the following to discover the final message!  Google the first line of this message, if you do not recognize it, to see what it is.\n"
      ]
    },
    {
      "cell_type": "code",
      "metadata": {
        "id": "v_bB8VNvrrqu",
        "colab": {
          "base_uri": "https://localhost:8080/",
          "height": 178
        },
        "outputId": "a872facc-bfb7-43f7-e0e5-f1ce0c9c8730"
      },
      "source": [
        "''.join(map(str, symbols_df.loc[top_secret]['Symbol']))"
      ],
      "execution_count": 329,
      "outputs": [
        {
          "output_type": "execute_result",
          "data": {
            "text/plain": [
              "'\\'Twas brillig, and the slithy toves   Did gyre and gimble in the wabe: All mimsy were the borogoves,   And the mome raths outgrabe. \"Beware the Jabberwock, my son!   The jaws that bite, the claws that catch! Beware the Jubjub bird, and shun   The frumious Bandersnatch!\" He took his vorpal sword in hand;   Long time the manxome foe he sought- So rested he by the Tumtum tree   And stood awhile in thought. And, as in uffish thought he stood,   The Jabberwock, with eyes of flame, Came whiffling through the tulgey wood,   And burbled as it came! One, two! One, two! And through and through   The vorpal blade went snicker-snack! He left it dead, and with its head   He went galumphing back. \"And hast thou slain the Jabberwock?   Come to my arms, my beamish boy! O frabjous day! Callooh! Callay!\"   He chortled in his joy. \\'Twas brillig, and the slithy toves   Did gyre and gimble in the wabe: All mimsy were the borogoves,   And the mome raths outgrabe.'"
            ],
            "application/vnd.google.colaboratory.intrinsic+json": {
              "type": "string"
            }
          },
          "metadata": {},
          "execution_count": 329
        }
      ]
    }
  ],
  "metadata": {
    "kernelspec": {
      "name": "python3",
      "language": "python",
      "display_name": "Python 3 (ipykernel)"
    },
    "colab": {
      "provenance": [],
      "collapsed_sections": [
        "QpUJsmq0rrqr",
        "7lSWgtD1t8B2",
        "FWk5dkwPpPli"
      ]
    }
  },
  "nbformat": 4,
  "nbformat_minor": 0
}